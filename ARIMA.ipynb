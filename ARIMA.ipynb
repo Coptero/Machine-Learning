{
 "cells": [
  {
   "cell_type": "code",
   "execution_count": 1,
   "metadata": {},
   "outputs": [],
   "source": [
    "import numpy as np\n",
    "import pandas as pd\n",
    "import matplotlib.pyplot as plt\n",
    "import statsmodels.api as sm\n",
    "import os"
   ]
  },
  {
   "cell_type": "code",
   "execution_count": 2,
   "metadata": {},
   "outputs": [
    {
     "ename": "FileNotFoundError",
     "evalue": "[Errno 2] No such file or directory: 'traffic_data'",
     "output_type": "error",
     "traceback": [
      "\u001b[0;31m---------------------------------------------------------------------------\u001b[0m",
      "\u001b[0;31mFileNotFoundError\u001b[0m                         Traceback (most recent call last)",
      "\u001b[0;32m<ipython-input-2-b20d3b400d37>\u001b[0m in \u001b[0;36m<module>\u001b[0;34m\u001b[0m\n\u001b[1;32m      5\u001b[0m        \u001b[0;34m'TenGigabitEthernet0/1/0'\u001b[0m\u001b[0;34m,\u001b[0m \u001b[0;34m'TenGigabitEthernet0/1/0.110'\u001b[0m\u001b[0;34m,\u001b[0m \u001b[0;34m'TenGigabitEthernet0/1/0.123'\u001b[0m\u001b[0;34m,\u001b[0m\u001b[0;34m\u001b[0m\u001b[0;34m\u001b[0m\u001b[0m\n\u001b[1;32m      6\u001b[0m                   'TenGigabitEthernet0/1/0.124']\n\u001b[0;32m----> 7\u001b[0;31m \u001b[0;32mfor\u001b[0m \u001b[0mfile\u001b[0m \u001b[0;32min\u001b[0m \u001b[0msorted\u001b[0m\u001b[0;34m(\u001b[0m\u001b[0mos\u001b[0m\u001b[0;34m.\u001b[0m\u001b[0mlistdir\u001b[0m\u001b[0;34m(\u001b[0m\u001b[0;34m\"traffic_data\"\u001b[0m\u001b[0;34m)\u001b[0m\u001b[0;34m)\u001b[0m\u001b[0;34m:\u001b[0m\u001b[0;34m\u001b[0m\u001b[0;34m\u001b[0m\u001b[0m\n\u001b[0m\u001b[1;32m      8\u001b[0m     \u001b[0mdf\u001b[0m \u001b[0;34m=\u001b[0m \u001b[0mpd\u001b[0m\u001b[0;34m.\u001b[0m\u001b[0mread_csv\u001b[0m\u001b[0;34m(\u001b[0m\u001b[0mos\u001b[0m\u001b[0;34m.\u001b[0m\u001b[0mpath\u001b[0m\u001b[0;34m.\u001b[0m\u001b[0mjoin\u001b[0m\u001b[0;34m(\u001b[0m\u001b[0;34m\"traffic_data\"\u001b[0m\u001b[0;34m,\u001b[0m \u001b[0mfile\u001b[0m\u001b[0;34m)\u001b[0m\u001b[0;34m)\u001b[0m\u001b[0;34m\u001b[0m\u001b[0;34m\u001b[0m\u001b[0m\n\u001b[1;32m      9\u001b[0m     \u001b[0mprint\u001b[0m\u001b[0;34m(\u001b[0m\u001b[0;34m'Reading file: '\u001b[0m \u001b[0;34m+\u001b[0m \u001b[0mos\u001b[0m\u001b[0;34m.\u001b[0m\u001b[0mpath\u001b[0m\u001b[0;34m.\u001b[0m\u001b[0mjoin\u001b[0m\u001b[0;34m(\u001b[0m\u001b[0;34m\"traffic_data\"\u001b[0m\u001b[0;34m,\u001b[0m \u001b[0mfile\u001b[0m\u001b[0;34m)\u001b[0m\u001b[0;34m)\u001b[0m\u001b[0;34m\u001b[0m\u001b[0;34m\u001b[0m\u001b[0m\n",
      "\u001b[0;31mFileNotFoundError\u001b[0m: [Errno 2] No such file or directory: 'traffic_data'"
     ]
    }
   ],
   "source": [
    "li = []\n",
    "interface_list = ['TenGigabitEthernet0/1/0.100', 'TenGigabitEthernet0/1/0.101',\n",
    "       'TenGigabitEthernet0/1/0.102', 'TenGigabitEthernet0/1/0.104',\n",
    "       'TenGigabitEthernet0/1/0.106', 'TenGigabitEthernet0/1/0.107',\n",
    "       'TenGigabitEthernet0/1/0', 'TenGigabitEthernet0/1/0.110', 'TenGigabitEthernet0/1/0.123',\n",
    "                  'TenGigabitEthernet0/1/0.124']\n",
    "for file in sorted(os.listdir(\"traffic_data\")):\n",
    "    df = pd.read_csv(os.path.join(\"traffic_data\", file))\n",
    "    print('Reading file: ' + os.path.join(\"traffic_data\", file))\n",
    "    df = df.loc[df.DE_INTERFACE.isin(interface_list)]\n",
    "    df = df.loc[(df.SC_ROUTER == 'BBVA-ESP-TRC-MW-1-437644') | (df.SC_ROUTER == 'BBVA-ESP-TRC-MW-2-437644')]\n",
    "    li.append(df)\n",
    "\n",
    "TraficoTotal = pd.concat(li, axis=0, ignore_index=True)"
   ]
  },
  {
   "cell_type": "code",
   "execution_count": 3,
   "metadata": {},
   "outputs": [
    {
     "data": {
      "text/plain": [
       "(10040328, 11)"
      ]
     },
     "execution_count": 3,
     "metadata": {},
     "output_type": "execute_result"
    }
   ],
   "source": [
    "TraficoTotal.shape"
   ]
  },
  {
   "cell_type": "code",
   "execution_count": null,
   "metadata": {},
   "outputs": [],
   "source": [
    "router1 = TraficoTotal.loc[TraficoTotal.SC_ROUTER == 'BBVA-ESP-TRC-MW-1-437644']\n",
    "router1.DE_INTERFACE.unique()"
   ]
  },
  {
   "cell_type": "code",
   "execution_count": null,
   "metadata": {},
   "outputs": [],
   "source": [
    "router2 = TraficoTotal.loc[TraficoTotal.SC_ROUTER == 'BBVA-ESP-TRC-MW-2-437644']\n",
    "router2.DE_INTERFACE.unique()"
   ]
  },
  {
   "cell_type": "code",
   "execution_count": null,
   "metadata": {},
   "outputs": [],
   "source": [
    "for interface in interface_list:\n",
    "    len1 = router1.loc[router1.DE_INTERFACE == interface].shape[0]\n",
    "    len2 = router2.loc[router2.DE_INTERFACE == interface].shape[0]\n",
    "    print('Para la interfaz ' + interface)\n",
    "    print('Puntos router 1: ' + str(len1))\n",
    "    print('Puntos router 2: ' + str(len2))"
   ]
  },
  {
   "cell_type": "code",
   "execution_count": null,
   "metadata": {},
   "outputs": [],
   "source": [
    "router1_inter1 = router1.loc[router1.DE_INTERFACE == 'TenGigabitEthernet0/1/0.101']\n",
    "router2_inter1 = router2.loc[router2.DE_INTERFACE == 'TenGigabitEthernet0/1/0.101']\n",
    "print(router1_inter1.shape[0])\n",
    "router2_inter1.shape[0]"
   ]
  },
  {
   "cell_type": "code",
   "execution_count": null,
   "metadata": {},
   "outputs": [],
   "source": [
    "fechas1_2,fechas2_1 = fecha_incluida(router1_inter1, router2_inter1)\n",
    "print(fechas1_2)\n",
    "print(fechas2_1)"
   ]
  },
  {
   "cell_type": "code",
   "execution_count": null,
   "metadata": {},
   "outputs": [],
   "source": [
    "def fecha_incluida(df1, df2):\n",
    "    fechas1_2 = [x for x in df1.DT_MEASURE_DATETIME.values if x not in df2.DT_MEASURE_DATETIME.values]\n",
    "    fechas2_1 = [x for x in df2.DT_MEASURE_DATETIME.values if x not in df1.DT_MEASURE_DATETIME.values]\n",
    "    return fechas1_2,fechas2_1\n",
    "    "
   ]
  },
  {
   "cell_type": "code",
   "execution_count": 4,
   "metadata": {},
   "outputs": [],
   "source": [
    "#Funcion que cambia el formato de las fechas \n",
    "def change_format(x):\n",
    "    fec = str(x)\n",
    "    ano=fec[0:4]\n",
    "    mes=fec[4:6]\n",
    "    dia=fec[6:8]\n",
    "    tiempo=fec[8:14]\n",
    "    final = ano + '/' + mes + '/' + dia + ' ' + tiempo[0:2] + ':' + tiempo[2:4] + ':' + tiempo[4:6] \n",
    "    return final "
   ]
  },
  {
   "cell_type": "code",
   "execution_count": null,
   "metadata": {},
   "outputs": [],
   "source": []
  },
  {
   "cell_type": "code",
   "execution_count": null,
   "metadata": {},
   "outputs": [],
   "source": []
  }
 ],
 "metadata": {
  "kernelspec": {
   "display_name": "Python 3",
   "language": "python",
   "name": "python3"
  },
  "language_info": {
   "codemirror_mode": {
    "name": "ipython",
    "version": 3
   },
   "file_extension": ".py",
   "mimetype": "text/x-python",
   "name": "python",
   "nbconvert_exporter": "python",
   "pygments_lexer": "ipython3",
   "version": "3.7.4"
  },
  "toc": {
   "base_numbering": 1,
   "nav_menu": {},
   "number_sections": true,
   "sideBar": true,
   "skip_h1_title": false,
   "title_cell": "Table of Contents",
   "title_sidebar": "Contents",
   "toc_cell": false,
   "toc_position": {},
   "toc_section_display": true,
   "toc_window_display": false
  }
 },
 "nbformat": 4,
 "nbformat_minor": 2
}

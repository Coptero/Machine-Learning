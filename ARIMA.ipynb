{
 "cells": [
  {
   "cell_type": "code",
   "execution_count": 1,
   "metadata": {},
   "outputs": [],
   "source": [
    "import numpy as np\n",
    "import pandas as pd\n",
    "import matplotlib.pyplot as plt\n",
    "import statsmodels.api as sm\n",
    "import os"
   ]
  },
  {
   "cell_type": "code",
   "execution_count": 2,
   "metadata": {},
   "outputs": [
    {
     "name": "stderr",
     "output_type": "stream",
     "text": [
      "/Users/lopoloalex/anaconda3/lib/python3.7/site-packages/ipykernel_launcher.py:6: FutureWarning: Sorting because non-concatenation axis is not aligned. A future version\n",
      "of pandas will change to not sort by default.\n",
      "\n",
      "To accept the future behavior, pass 'sort=False'.\n",
      "\n",
      "To retain the current behavior and silence the warning, pass 'sort=True'.\n",
      "\n",
      "  \n"
     ]
    }
   ],
   "source": [
    "li = []\n",
    "for file in sorted(os.listdir(\"Dataset\")):\n",
    "    df = pd.read_csv(os.path.join(\"Dataset\", file))\n",
    "    li.append(df)\n",
    "\n",
    "TraficoTotal = pd.concat(li, axis=0, ignore_index=True)"
   ]
  },
  {
   "cell_type": "code",
   "execution_count": 3,
   "metadata": {},
   "outputs": [
    {
     "data": {
      "text/html": [
       "<div>\n",
       "<style scoped>\n",
       "    .dataframe tbody tr th:only-of-type {\n",
       "        vertical-align: middle;\n",
       "    }\n",
       "\n",
       "    .dataframe tbody tr th {\n",
       "        vertical-align: top;\n",
       "    }\n",
       "\n",
       "    .dataframe thead th {\n",
       "        text-align: right;\n",
       "    }\n",
       "</style>\n",
       "<table border=\"1\" class=\"dataframe\">\n",
       "  <thead>\n",
       "    <tr style=\"text-align: right;\">\n",
       "      <th></th>\n",
       "      <th>DE_CUSTOMER_NAME</th>\n",
       "      <th>DE_INTERFACE</th>\n",
       "      <th>DT_MEASURE_DATETIME</th>\n",
       "      <th>DT_MEASURE_DATETIME_1</th>\n",
       "      <th>NU_SPEED</th>\n",
       "      <th>NU_TRAFFIC_INPUT</th>\n",
       "      <th>NU_TRAFFIC_OUTPUT</th>\n",
       "      <th>SC_INTERFACE_TYPE</th>\n",
       "      <th>SC_ROUTER</th>\n",
       "      <th>SD_ADMINISTRATIVE_NUMBER</th>\n",
       "      <th>Unnamed: 0</th>\n",
       "    </tr>\n",
       "  </thead>\n",
       "  <tbody>\n",
       "    <tr>\n",
       "      <th>0</th>\n",
       "      <td>BBVA</td>\n",
       "      <td>TenGigabitEthernet0/1/0.100</td>\n",
       "      <td>2.019010e+13</td>\n",
       "      <td>01/01/19</td>\n",
       "      <td>1.000000e+10</td>\n",
       "      <td>13305027.0</td>\n",
       "      <td>14886319.0</td>\n",
       "      <td>WAN</td>\n",
       "      <td>BBVA-ESP-TRC-MW-1-437644</td>\n",
       "      <td>437644.0</td>\n",
       "      <td>NaN</td>\n",
       "    </tr>\n",
       "    <tr>\n",
       "      <th>1</th>\n",
       "      <td>BBVA</td>\n",
       "      <td>TenGigabitEthernet0/1/0.100</td>\n",
       "      <td>2.019010e+13</td>\n",
       "      <td>01/01/19</td>\n",
       "      <td>1.000000e+10</td>\n",
       "      <td>12808633.0</td>\n",
       "      <td>15743063.0</td>\n",
       "      <td>WAN</td>\n",
       "      <td>BBVA-ESP-TRC-MW-1-437644</td>\n",
       "      <td>437644.0</td>\n",
       "      <td>NaN</td>\n",
       "    </tr>\n",
       "    <tr>\n",
       "      <th>2</th>\n",
       "      <td>BBVA</td>\n",
       "      <td>TenGigabitEthernet0/1/0.100</td>\n",
       "      <td>2.019010e+13</td>\n",
       "      <td>01/01/19</td>\n",
       "      <td>1.000000e+10</td>\n",
       "      <td>13086709.0</td>\n",
       "      <td>16867634.0</td>\n",
       "      <td>WAN</td>\n",
       "      <td>BBVA-ESP-TRC-MW-1-437644</td>\n",
       "      <td>437644.0</td>\n",
       "      <td>NaN</td>\n",
       "    </tr>\n",
       "    <tr>\n",
       "      <th>3</th>\n",
       "      <td>BBVA</td>\n",
       "      <td>TenGigabitEthernet0/1/0.100</td>\n",
       "      <td>2.019010e+13</td>\n",
       "      <td>01/01/19</td>\n",
       "      <td>1.000000e+10</td>\n",
       "      <td>12158887.0</td>\n",
       "      <td>17587628.0</td>\n",
       "      <td>WAN</td>\n",
       "      <td>BBVA-ESP-TRC-MW-1-437644</td>\n",
       "      <td>437644.0</td>\n",
       "      <td>NaN</td>\n",
       "    </tr>\n",
       "    <tr>\n",
       "      <th>4</th>\n",
       "      <td>BBVA</td>\n",
       "      <td>TenGigabitEthernet0/1/0.100</td>\n",
       "      <td>2.019010e+13</td>\n",
       "      <td>01/01/19</td>\n",
       "      <td>1.000000e+10</td>\n",
       "      <td>17157396.0</td>\n",
       "      <td>17422344.0</td>\n",
       "      <td>WAN</td>\n",
       "      <td>BBVA-ESP-TRC-MW-1-437644</td>\n",
       "      <td>437644.0</td>\n",
       "      <td>NaN</td>\n",
       "    </tr>\n",
       "  </tbody>\n",
       "</table>\n",
       "</div>"
      ],
      "text/plain": [
       "  DE_CUSTOMER_NAME                 DE_INTERFACE  DT_MEASURE_DATETIME  \\\n",
       "0             BBVA  TenGigabitEthernet0/1/0.100         2.019010e+13   \n",
       "1             BBVA  TenGigabitEthernet0/1/0.100         2.019010e+13   \n",
       "2             BBVA  TenGigabitEthernet0/1/0.100         2.019010e+13   \n",
       "3             BBVA  TenGigabitEthernet0/1/0.100         2.019010e+13   \n",
       "4             BBVA  TenGigabitEthernet0/1/0.100         2.019010e+13   \n",
       "\n",
       "  DT_MEASURE_DATETIME_1      NU_SPEED  NU_TRAFFIC_INPUT  NU_TRAFFIC_OUTPUT  \\\n",
       "0              01/01/19  1.000000e+10        13305027.0         14886319.0   \n",
       "1              01/01/19  1.000000e+10        12808633.0         15743063.0   \n",
       "2              01/01/19  1.000000e+10        13086709.0         16867634.0   \n",
       "3              01/01/19  1.000000e+10        12158887.0         17587628.0   \n",
       "4              01/01/19  1.000000e+10        17157396.0         17422344.0   \n",
       "\n",
       "  SC_INTERFACE_TYPE                 SC_ROUTER  SD_ADMINISTRATIVE_NUMBER  \\\n",
       "0               WAN  BBVA-ESP-TRC-MW-1-437644                  437644.0   \n",
       "1               WAN  BBVA-ESP-TRC-MW-1-437644                  437644.0   \n",
       "2               WAN  BBVA-ESP-TRC-MW-1-437644                  437644.0   \n",
       "3               WAN  BBVA-ESP-TRC-MW-1-437644                  437644.0   \n",
       "4               WAN  BBVA-ESP-TRC-MW-1-437644                  437644.0   \n",
       "\n",
       "  Unnamed: 0  \n",
       "0        NaN  \n",
       "1        NaN  \n",
       "2        NaN  \n",
       "3        NaN  \n",
       "4        NaN  "
      ]
     },
     "execution_count": 3,
     "metadata": {},
     "output_type": "execute_result"
    }
   ],
   "source": [
    "TraficoTotal.head()"
   ]
  },
  {
   "cell_type": "code",
   "execution_count": 4,
   "metadata": {},
   "outputs": [],
   "source": [
    "#Funcion que cambia el formato de las fechas \n",
    "def change_format(x):\n",
    "    fec = str(x)\n",
    "    ano=fec[0:4]\n",
    "    mes=fec[4:6]\n",
    "    dia=fec[6:8]\n",
    "    tiempo=fec[8:14]\n",
    "    final = ano + '/' + mes + '/' + dia + ' ' + tiempo[0:2] + ':' + tiempo[2:4] + ':' + tiempo[4:6] \n",
    "    return final "
   ]
  },
  {
   "cell_type": "code",
   "execution_count": 5,
   "metadata": {},
   "outputs": [
    {
     "data": {
      "text/html": [
       "<div>\n",
       "<style scoped>\n",
       "    .dataframe tbody tr th:only-of-type {\n",
       "        vertical-align: middle;\n",
       "    }\n",
       "\n",
       "    .dataframe tbody tr th {\n",
       "        vertical-align: top;\n",
       "    }\n",
       "\n",
       "    .dataframe thead th {\n",
       "        text-align: right;\n",
       "    }\n",
       "</style>\n",
       "<table border=\"1\" class=\"dataframe\">\n",
       "  <thead>\n",
       "    <tr style=\"text-align: right;\">\n",
       "      <th></th>\n",
       "      <th>DE_CUSTOMER_NAME</th>\n",
       "      <th>DE_INTERFACE</th>\n",
       "      <th>DT_MEASURE_DATETIME</th>\n",
       "      <th>DT_MEASURE_DATETIME_1</th>\n",
       "      <th>NU_SPEED</th>\n",
       "      <th>NU_TRAFFIC_INPUT</th>\n",
       "      <th>NU_TRAFFIC_OUTPUT</th>\n",
       "      <th>SC_INTERFACE_TYPE</th>\n",
       "      <th>SC_ROUTER</th>\n",
       "      <th>SD_ADMINISTRATIVE_NUMBER</th>\n",
       "      <th>Unnamed: 0</th>\n",
       "    </tr>\n",
       "  </thead>\n",
       "  <tbody>\n",
       "    <tr>\n",
       "      <th>0</th>\n",
       "      <td>BBVA</td>\n",
       "      <td>TenGigabitEthernet0/1/0.100</td>\n",
       "      <td>2019-01-01 00:05:00</td>\n",
       "      <td>01/01/19</td>\n",
       "      <td>1.000000e+10</td>\n",
       "      <td>13305027.0</td>\n",
       "      <td>14886319.0</td>\n",
       "      <td>WAN</td>\n",
       "      <td>BBVA-ESP-TRC-MW-1-437644</td>\n",
       "      <td>437644.0</td>\n",
       "      <td>NaN</td>\n",
       "    </tr>\n",
       "    <tr>\n",
       "      <th>1</th>\n",
       "      <td>BBVA</td>\n",
       "      <td>TenGigabitEthernet0/1/0.100</td>\n",
       "      <td>2019-01-01 00:10:00</td>\n",
       "      <td>01/01/19</td>\n",
       "      <td>1.000000e+10</td>\n",
       "      <td>12808633.0</td>\n",
       "      <td>15743063.0</td>\n",
       "      <td>WAN</td>\n",
       "      <td>BBVA-ESP-TRC-MW-1-437644</td>\n",
       "      <td>437644.0</td>\n",
       "      <td>NaN</td>\n",
       "    </tr>\n",
       "    <tr>\n",
       "      <th>2</th>\n",
       "      <td>BBVA</td>\n",
       "      <td>TenGigabitEthernet0/1/0.100</td>\n",
       "      <td>2019-01-01 00:15:00</td>\n",
       "      <td>01/01/19</td>\n",
       "      <td>1.000000e+10</td>\n",
       "      <td>13086709.0</td>\n",
       "      <td>16867634.0</td>\n",
       "      <td>WAN</td>\n",
       "      <td>BBVA-ESP-TRC-MW-1-437644</td>\n",
       "      <td>437644.0</td>\n",
       "      <td>NaN</td>\n",
       "    </tr>\n",
       "    <tr>\n",
       "      <th>3</th>\n",
       "      <td>BBVA</td>\n",
       "      <td>TenGigabitEthernet0/1/0.100</td>\n",
       "      <td>2019-01-01 00:20:00</td>\n",
       "      <td>01/01/19</td>\n",
       "      <td>1.000000e+10</td>\n",
       "      <td>12158887.0</td>\n",
       "      <td>17587628.0</td>\n",
       "      <td>WAN</td>\n",
       "      <td>BBVA-ESP-TRC-MW-1-437644</td>\n",
       "      <td>437644.0</td>\n",
       "      <td>NaN</td>\n",
       "    </tr>\n",
       "    <tr>\n",
       "      <th>4</th>\n",
       "      <td>BBVA</td>\n",
       "      <td>TenGigabitEthernet0/1/0.100</td>\n",
       "      <td>2019-01-01 00:25:00</td>\n",
       "      <td>01/01/19</td>\n",
       "      <td>1.000000e+10</td>\n",
       "      <td>17157396.0</td>\n",
       "      <td>17422344.0</td>\n",
       "      <td>WAN</td>\n",
       "      <td>BBVA-ESP-TRC-MW-1-437644</td>\n",
       "      <td>437644.0</td>\n",
       "      <td>NaN</td>\n",
       "    </tr>\n",
       "  </tbody>\n",
       "</table>\n",
       "</div>"
      ],
      "text/plain": [
       "  DE_CUSTOMER_NAME                 DE_INTERFACE DT_MEASURE_DATETIME  \\\n",
       "0             BBVA  TenGigabitEthernet0/1/0.100 2019-01-01 00:05:00   \n",
       "1             BBVA  TenGigabitEthernet0/1/0.100 2019-01-01 00:10:00   \n",
       "2             BBVA  TenGigabitEthernet0/1/0.100 2019-01-01 00:15:00   \n",
       "3             BBVA  TenGigabitEthernet0/1/0.100 2019-01-01 00:20:00   \n",
       "4             BBVA  TenGigabitEthernet0/1/0.100 2019-01-01 00:25:00   \n",
       "\n",
       "  DT_MEASURE_DATETIME_1      NU_SPEED  NU_TRAFFIC_INPUT  NU_TRAFFIC_OUTPUT  \\\n",
       "0              01/01/19  1.000000e+10        13305027.0         14886319.0   \n",
       "1              01/01/19  1.000000e+10        12808633.0         15743063.0   \n",
       "2              01/01/19  1.000000e+10        13086709.0         16867634.0   \n",
       "3              01/01/19  1.000000e+10        12158887.0         17587628.0   \n",
       "4              01/01/19  1.000000e+10        17157396.0         17422344.0   \n",
       "\n",
       "  SC_INTERFACE_TYPE                 SC_ROUTER  SD_ADMINISTRATIVE_NUMBER  \\\n",
       "0               WAN  BBVA-ESP-TRC-MW-1-437644                  437644.0   \n",
       "1               WAN  BBVA-ESP-TRC-MW-1-437644                  437644.0   \n",
       "2               WAN  BBVA-ESP-TRC-MW-1-437644                  437644.0   \n",
       "3               WAN  BBVA-ESP-TRC-MW-1-437644                  437644.0   \n",
       "4               WAN  BBVA-ESP-TRC-MW-1-437644                  437644.0   \n",
       "\n",
       "  Unnamed: 0  \n",
       "0        NaN  \n",
       "1        NaN  \n",
       "2        NaN  \n",
       "3        NaN  \n",
       "4        NaN  "
      ]
     },
     "execution_count": 5,
     "metadata": {},
     "output_type": "execute_result"
    }
   ],
   "source": [
    "#Aplicamos el cambio de formato a las fechas\n",
    "TraficoTotal['DT_MEASURE_DATETIME'] = TraficoTotal['DT_MEASURE_DATETIME'].apply(change_format)\n",
    "TraficoTotal['DT_MEASURE_DATETIME'] = pd.to_datetime(TraficoTotal['DT_MEASURE_DATETIME'])\n",
    "TraficoTotal.head()\n"
   ]
  },
  {
   "cell_type": "code",
   "execution_count": 6,
   "metadata": {},
   "outputs": [
    {
     "name": "stdout",
     "output_type": "stream",
     "text": [
      "Routers\n",
      "6\n",
      "['BBVA-ESP-TRC-MW-1-437644' 'BBVA-ESP-TRC-MW-2-437644'\n",
      " 'BBVA-MEX-ATA-MW-1-1006634' 'BBVA-MEX-ATA-MW-2-1006634'\n",
      " 'CMEX-MEX-OCCRTRDW01' 'CMEX-ESP-OCCRTRDW01']\n",
      "Interfaces\n",
      "66\n",
      "['TenGigabitEthernet0/1/0.100' 'TenGigabitEthernet0/1/0.101'\n",
      " 'TenGigabitEthernet0/1/0.102' 'TenGigabitEthernet0/1/0.104'\n",
      " 'TenGigabitEthernet0/1/0.106' 'TenGigabitEthernet0/1/0.107' 'Tunnel5'\n",
      " 'Tunnel59' 'Tunnel60' 'TenGigabitEthernet0/1/0'\n",
      " 'TenGigabitEthernet0/1/0.103' 'TenGigabitEthernet0/1/0.109'\n",
      " 'TenGigabitEthernet0/1/0.108' 'TenGigabitEthernet0/1/0.110'\n",
      " 'TenGigabitEthernet0/1/0.111' 'TenGigabitEthernet0/1/0.112'\n",
      " 'TenGigabitEthernet0/1/0.113' 'TenGigabitEthernet0/1/0.114'\n",
      " 'TenGigabitEthernet0/1/0.115' 'TenGigabitEthernet0/1/0.116' 'Tunnel50'\n",
      " 'Tunnel63' 'Tunnel64' 'Tunnel1' 'Tunnel65' 'Tunnel2' 'Tunnel3' 'Tunnel4'\n",
      " 'Tunnel57' 'Tunnel58' 'Tunnel54' 'Tunnel55' 'Tunnel56' 'Tunnel61'\n",
      " 'Tunnel62' 'GigabitEthernet0/0/0' 'GigabitEthernet0/0' 'Tunnel6'\n",
      " 'TenGigabitEthernet0/1/0.120' 'Tunnel7' 'Tunnel8' 'Tunnel203' 'Tunnel204'\n",
      " 'Tunnel200' 'Tunnel201' 'Tunnel202' 'Tunnel205' 'Tunnel206' 'Tunnel207'\n",
      " 'Tunnel210' 'Tunnel211' 'Tunnel212' 'Tunnel213' 'Tunnel9' 'Tunnel10'\n",
      " 'Tunnel11' 'Tunnel12' 'Tunnel300' 'Tunnel301' 'Tunnel307' 'Tunnel302'\n",
      " 'Tunnel303' 'Tunnel304' 'Tunnel305' 'Tunnel306' 'Tunnel308']\n"
     ]
    }
   ],
   "source": [
    "#Vemos cuantos routers e interfaces contiene cada uno de los datos suministrados\n",
    "print('Routers')\n",
    "print(len(TraficoTotal.SC_ROUTER.unique()))\n",
    "print(TraficoTotal.SC_ROUTER.unique())\n",
    "\n",
    "print('Interfaces')\n",
    "print(len(TraficoTotal.DE_INTERFACE.unique()))\n",
    "print(TraficoTotal.DE_INTERFACE.unique())\n",
    "\n",
    "\n",
    "\n"
   ]
  },
  {
   "cell_type": "code",
   "execution_count": 7,
   "metadata": {},
   "outputs": [
    {
     "name": "stdout",
     "output_type": "stream",
     "text": [
      "Router:  BBVA-ESP-TRC-MW-1-437644\n",
      "['TenGigabitEthernet0/1/0.100' 'TenGigabitEthernet0/1/0.101'\n",
      " 'TenGigabitEthernet0/1/0.102' 'TenGigabitEthernet0/1/0.104'\n",
      " 'TenGigabitEthernet0/1/0.106' 'TenGigabitEthernet0/1/0.107'\n",
      " 'TenGigabitEthernet0/1/0' 'TenGigabitEthernet0/1/0.110' 'Tunnel300'\n",
      " 'Tunnel301' 'Tunnel307' 'Tunnel302' 'Tunnel303' 'Tunnel304' 'Tunnel305'\n",
      " 'Tunnel306']\n",
      "Router:  BBVA-ESP-TRC-MW-2-437644\n",
      "['TenGigabitEthernet0/1/0.100' 'TenGigabitEthernet0/1/0.101'\n",
      " 'TenGigabitEthernet0/1/0.102' 'TenGigabitEthernet0/1/0.104'\n",
      " 'TenGigabitEthernet0/1/0.106' 'TenGigabitEthernet0/1/0.107'\n",
      " 'TenGigabitEthernet0/1/0' 'Tunnel203' 'Tunnel204'\n",
      " 'TenGigabitEthernet0/1/0.110' 'Tunnel200' 'Tunnel201' 'Tunnel202'\n",
      " 'Tunnel205' 'Tunnel206' 'Tunnel207' 'Tunnel210' 'Tunnel211' 'Tunnel212'\n",
      " 'Tunnel213' 'Tunnel307' 'Tunnel300' 'Tunnel301' 'Tunnel302' 'Tunnel303'\n",
      " 'Tunnel304' 'Tunnel308' 'Tunnel305' 'Tunnel306']\n",
      "Router:  BBVA-MEX-ATA-MW-1-1006634\n",
      "['Tunnel5' 'Tunnel59' 'Tunnel60' 'TenGigabitEthernet0/1/0'\n",
      " 'TenGigabitEthernet0/1/0.100' 'TenGigabitEthernet0/1/0.101'\n",
      " 'TenGigabitEthernet0/1/0.102' 'TenGigabitEthernet0/1/0.103'\n",
      " 'TenGigabitEthernet0/1/0.104' 'TenGigabitEthernet0/1/0.109'\n",
      " 'TenGigabitEthernet0/1/0.107' 'TenGigabitEthernet0/1/0.108'\n",
      " 'TenGigabitEthernet0/1/0.110' 'TenGigabitEthernet0/1/0.111'\n",
      " 'TenGigabitEthernet0/1/0.112' 'TenGigabitEthernet0/1/0.113'\n",
      " 'TenGigabitEthernet0/1/0.114' 'TenGigabitEthernet0/1/0.115'\n",
      " 'TenGigabitEthernet0/1/0.116' 'Tunnel50' 'Tunnel63' 'Tunnel64' 'Tunnel1'\n",
      " 'Tunnel65' 'Tunnel2' 'Tunnel3' 'Tunnel4' 'Tunnel57' 'Tunnel58' 'Tunnel54'\n",
      " 'Tunnel55' 'Tunnel56' 'Tunnel61' 'Tunnel62' 'Tunnel6'\n",
      " 'TenGigabitEthernet0/1/0.120' 'Tunnel7' 'Tunnel8' 'Tunnel9' 'Tunnel10'\n",
      " 'Tunnel11' 'Tunnel12' 'Tunnel300' 'Tunnel301' 'Tunnel302' 'Tunnel303']\n",
      "Router:  BBVA-MEX-ATA-MW-2-1006634\n",
      "['Tunnel5' 'Tunnel59' 'Tunnel60' 'TenGigabitEthernet0/1/0'\n",
      " 'TenGigabitEthernet0/1/0.101' 'TenGigabitEthernet0/1/0.100'\n",
      " 'TenGigabitEthernet0/1/0.102' 'TenGigabitEthernet0/1/0.108'\n",
      " 'TenGigabitEthernet0/1/0.103' 'TenGigabitEthernet0/1/0.104'\n",
      " 'TenGigabitEthernet0/1/0.107' 'TenGigabitEthernet0/1/0.109'\n",
      " 'TenGigabitEthernet0/1/0.115' 'TenGigabitEthernet0/1/0.110'\n",
      " 'TenGigabitEthernet0/1/0.111' 'TenGigabitEthernet0/1/0.112'\n",
      " 'TenGigabitEthernet0/1/0.116' 'TenGigabitEthernet0/1/0.113'\n",
      " 'TenGigabitEthernet0/1/0.114' 'Tunnel3' 'Tunnel1' 'Tunnel4' 'Tunnel2'\n",
      " 'Tunnel57' 'Tunnel58' 'Tunnel55' 'Tunnel50' 'Tunnel56' 'Tunnel54'\n",
      " 'Tunnel63' 'Tunnel61' 'Tunnel62' 'Tunnel64' 'Tunnel65'\n",
      " 'TenGigabitEthernet0/1/0.120' 'Tunnel10' 'Tunnel9' 'Tunnel11' 'Tunnel12'\n",
      " 'Tunnel6' 'Tunnel7' 'Tunnel8' 'Tunnel300' 'Tunnel301' 'Tunnel302'\n",
      " 'Tunnel303']\n",
      "Router:  CMEX-MEX-OCCRTRDW01\n",
      "['GigabitEthernet0/0/0']\n",
      "Router:  CMEX-ESP-OCCRTRDW01\n",
      "['GigabitEthernet0/0']\n"
     ]
    }
   ],
   "source": [
    "#Para cada uno de los routers, vemos que interfaces contiene \n",
    "routers=TraficoTotal.SC_ROUTER.unique()\n",
    "interfaces=TraficoTotal.DE_INTERFACE.unique()\n",
    "for router in routers:\n",
    "    rou = TraficoTotal.loc[TraficoTotal.SC_ROUTER == router]\n",
    "    print('Router:  ' + router)\n",
    "    print(rou.DE_INTERFACE.unique()) "
   ]
  },
  {
   "cell_type": "code",
   "execution_count": 14,
   "metadata": {},
   "outputs": [
    {
     "data": {
      "text/plain": [
       "<matplotlib.axes._subplots.AxesSubplot at 0x1c223cb128>"
      ]
     },
     "execution_count": 14,
     "metadata": {},
     "output_type": "execute_result"
    },
    {
     "data": {
      "image/png": "[encoded data removed]",
      "text/plain": [
       "<Figure size 432x288 with 1 Axes>"
      ]
     },
     "metadata": {
      "needs_background": "light"
     },
     "output_type": "display_data"
    }
   ],
   "source": [
    "#Router de mexico lleva en funcionamiento 5 años, es el primero que utilizar \n",
    "tra1 =  TraficoTotal.loc[TraficoTotal.SC_ROUTER == 'CMEX-MEX-OCCRTRDW01']\n",
    "tra1=tra1.iloc[:,[2,6]]\n",
    "tra1.set_index('DT_MEASURE_DATETIME', inplace = True) #Lo seteo como indice \n",
    "tra1.plot()\n"
   ]
  },
  {
   "cell_type": "code",
   "execution_count": null,
   "metadata": {},
   "outputs": [],
   "source": [
    "#Filtrar interfaz\n"
   ]
  },
  {
   "cell_type": "code",
   "execution_count": 22,
   "metadata": {},
   "outputs": [],
   "source": [
    "#Estos routers funcionan en balanceo de carga luego tenemos que sumar su tráfico\n",
    "#BBVAMEXATAMW11006634['TraficoInTotal']=BBVAMEXATAMW11006634['NU_TRAFFIC_INPUT']+BBVAMEXATAMW21006634['NU_TRAFFIC_INPUT']\n",
    "#BBVAMEXATAMW11006634['TraficoOutnTotal']=BBVAMEXATAMW11006634['NU_TRAFFIC_OUTPUT']+BBVAMEXATAMW21006634['NU_TRAFFIC_OUTPUT']"
   ]
  },
  {
   "cell_type": "code",
   "execution_count": 15,
   "metadata": {},
   "outputs": [],
   "source": [
    "from statsmodels.tsa.stattools import acf\n",
    "from statsmodels.graphics.tsaplots import plot_acf\n",
    "from matplotlib import pyplot\n",
    "from statsmodels.graphics.tsaplots import plot_pacf"
   ]
  },
  {
   "cell_type": "code",
   "execution_count": 16,
   "metadata": {},
   "outputs": [
    {
     "data": {
      "image/png": "[encoded data removed]",
      "text/plain": [
       "<Figure size 432x288 with 1 Axes>"
      ]
     },
     "metadata": {
      "needs_background": "light"
     },
     "output_type": "display_data"
    }
   ],
   "source": [
    "plot_pacf(tra1)\n",
    "pyplot.show()"
   ]
  },
  {
   "cell_type": "code",
   "execution_count": 20,
   "metadata": {},
   "outputs": [
    {
     "data": {
      "image/png": "[encoded data removed]",
      "text/plain": [
       "<Figure size 432x288 with 1 Axes>"
      ]
     },
     "metadata": {
      "needs_background": "light"
     },
     "output_type": "display_data"
    },
    {
     "data": {
      "image/png": "[encoded data removed]",
      "text/plain": [
       "<Figure size 432x288 with 1 Axes>"
      ]
     },
     "metadata": {
      "needs_background": "light"
     },
     "output_type": "display_data"
    }
   ],
   "source": [
    "plot_acf(tra1,lags=250)\n",
    "plot_acf(tra1)\n",
    "pyplot.show()"
   ]
  },
  {
   "cell_type": "code",
   "execution_count": null,
   "metadata": {},
   "outputs": [],
   "source": []
  },
  {
   "cell_type": "code",
   "execution_count": null,
   "metadata": {},
   "outputs": [],
   "source": []
  }
 ],
 "metadata": {
  "kernelspec": {
   "display_name": "Python 3",
   "language": "python",
   "name": "python3"
  },
  "language_info": {
   "codemirror_mode": {
    "name": "ipython",
    "version": 3
   },
   "file_extension": ".py",
   "mimetype": "text/x-python",
   "name": "python",
   "nbconvert_exporter": "python",
   "pygments_lexer": "ipython3",
   "version": "3.7.3"
  }
 },
 "nbformat": 4,
 "nbformat_minor": 2
}

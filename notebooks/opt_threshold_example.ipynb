{
 "cells": [
  {
   "cell_type": "code",
   "execution_count": 49,
   "metadata": {
    "collapsed": false,
    "deletable": true,
    "editable": true
   },
   "outputs": [],
   "source": [
    "import pandas as pd\n",
    "import rrcf\n",
    "import datetime\n",
    "import numpy as np\n",
    "import sys \n",
    "#sys.path.append('..')\n",
    "#sys.path.insert(0, '')\n",
    "from helpers import nearest_after, optimal_fbeta, calculate_metrics, forest_to_dict\n",
    "import seaborn as sns\n",
    "import json"
   ]
  },
  {
   "cell_type": "markdown",
   "metadata": {
    "deletable": true,
    "editable": true
   },
   "source": [
    "# Carga de datos"
   ]
  },
  {
   "cell_type": "markdown",
   "metadata": {
    "deletable": true,
    "editable": true
   },
   "source": [
    "En primer lugar, se cargan los ficheros de tráfico de la sede que se desee analizar. Estos ficheros deben haber sido previamente procesados ():"
   ]
  },
  {
   "cell_type": "code",
   "execution_count": 2,
   "metadata": {
    "collapsed": false,
    "deletable": true,
    "editable": true
   },
   "outputs": [
    {
     "name": "stderr",
     "output_type": "stream",
     "text": [
      "/Users/manuelpertejolope/anaconda3/envs/anomaly_detection/lib/python3.6/site-packages/IPython/core/interactiveshell.py:3063: DtypeWarning: Columns (9) have mixed types. Specify dtype option on import or set low_memory=False.\n",
      "  interactivity=interactivity, compiler=compiler, result=result)\n"
     ]
    },
    {
     "data": {
      "text/html": [
       "<div>\n",
       "<style scoped>\n",
       "    .dataframe tbody tr th:only-of-type {\n",
       "        vertical-align: middle;\n",
       "    }\n",
       "\n",
       "    .dataframe tbody tr th {\n",
       "        vertical-align: top;\n",
       "    }\n",
       "\n",
       "    .dataframe thead th {\n",
       "        text-align: right;\n",
       "    }\n",
       "</style>\n",
       "<table border=\"1\" class=\"dataframe\">\n",
       "  <thead>\n",
       "    <tr style=\"text-align: right;\">\n",
       "      <th></th>\n",
       "      <th>SC_ROUTER</th>\n",
       "      <th>DE_INTERFACE</th>\n",
       "      <th>NU_SPEED</th>\n",
       "      <th>NU_TRAFFIC_INPUT</th>\n",
       "      <th>NU_TRAFFIC_OUTPUT</th>\n",
       "      <th>DT_MEASURE_DATETIME</th>\n",
       "      <th>SC_INTERFACE_TYPE</th>\n",
       "      <th>DE_CUSTOMER_NAME</th>\n",
       "      <th>SD_ADMINISTRATIVE_NUMBER</th>\n",
       "      <th>WEEKEND</th>\n",
       "    </tr>\n",
       "  </thead>\n",
       "  <tbody>\n",
       "    <tr>\n",
       "      <td>0</td>\n",
       "      <td>BBVA-USA-HOU-MP-M-075945</td>\n",
       "      <td>GigabitEthernet0/1</td>\n",
       "      <td>3.072</td>\n",
       "      <td>0.050990</td>\n",
       "      <td>0.657667</td>\n",
       "      <td>2018-03-01 00:00:00</td>\n",
       "      <td>WAN</td>\n",
       "      <td>BBVA</td>\n",
       "      <td>75945</td>\n",
       "      <td>False</td>\n",
       "    </tr>\n",
       "    <tr>\n",
       "      <td>1</td>\n",
       "      <td>BBVA-USA-HOU-MP-M-075945</td>\n",
       "      <td>GigabitEthernet0/1</td>\n",
       "      <td>3.072</td>\n",
       "      <td>0.154260</td>\n",
       "      <td>2.824734</td>\n",
       "      <td>2018-03-01 00:05:00</td>\n",
       "      <td>WAN</td>\n",
       "      <td>BBVA</td>\n",
       "      <td>75945</td>\n",
       "      <td>False</td>\n",
       "    </tr>\n",
       "    <tr>\n",
       "      <td>2</td>\n",
       "      <td>BBVA-USA-HOU-MP-M-075945</td>\n",
       "      <td>GigabitEthernet0/1</td>\n",
       "      <td>3.072</td>\n",
       "      <td>0.124266</td>\n",
       "      <td>1.215409</td>\n",
       "      <td>2018-03-01 00:10:00</td>\n",
       "      <td>WAN</td>\n",
       "      <td>BBVA</td>\n",
       "      <td>75945</td>\n",
       "      <td>False</td>\n",
       "    </tr>\n",
       "    <tr>\n",
       "      <td>3</td>\n",
       "      <td>BBVA-USA-HOU-MP-M-075945</td>\n",
       "      <td>GigabitEthernet0/1</td>\n",
       "      <td>3.072</td>\n",
       "      <td>0.191709</td>\n",
       "      <td>1.525660</td>\n",
       "      <td>2018-03-01 00:15:00</td>\n",
       "      <td>WAN</td>\n",
       "      <td>BBVA</td>\n",
       "      <td>75945</td>\n",
       "      <td>False</td>\n",
       "    </tr>\n",
       "    <tr>\n",
       "      <td>4</td>\n",
       "      <td>BBVA-USA-HOU-MP-M-075945</td>\n",
       "      <td>GigabitEthernet0/1</td>\n",
       "      <td>3.072</td>\n",
       "      <td>0.185136</td>\n",
       "      <td>1.620250</td>\n",
       "      <td>2018-03-01 00:20:00</td>\n",
       "      <td>WAN</td>\n",
       "      <td>BBVA</td>\n",
       "      <td>75945</td>\n",
       "      <td>False</td>\n",
       "    </tr>\n",
       "  </tbody>\n",
       "</table>\n",
       "</div>"
      ],
      "text/plain": [
       "                  SC_ROUTER        DE_INTERFACE  NU_SPEED  NU_TRAFFIC_INPUT  \\\n",
       "0  BBVA-USA-HOU-MP-M-075945  GigabitEthernet0/1     3.072          0.050990   \n",
       "1  BBVA-USA-HOU-MP-M-075945  GigabitEthernet0/1     3.072          0.154260   \n",
       "2  BBVA-USA-HOU-MP-M-075945  GigabitEthernet0/1     3.072          0.124266   \n",
       "3  BBVA-USA-HOU-MP-M-075945  GigabitEthernet0/1     3.072          0.191709   \n",
       "4  BBVA-USA-HOU-MP-M-075945  GigabitEthernet0/1     3.072          0.185136   \n",
       "\n",
       "   NU_TRAFFIC_OUTPUT  DT_MEASURE_DATETIME SC_INTERFACE_TYPE DE_CUSTOMER_NAME  \\\n",
       "0           0.657667  2018-03-01 00:00:00               WAN             BBVA   \n",
       "1           2.824734  2018-03-01 00:05:00               WAN             BBVA   \n",
       "2           1.215409  2018-03-01 00:10:00               WAN             BBVA   \n",
       "3           1.525660  2018-03-01 00:15:00               WAN             BBVA   \n",
       "4           1.620250  2018-03-01 00:20:00               WAN             BBVA   \n",
       "\n",
       "   SD_ADMINISTRATIVE_NUMBER WEEKEND  \n",
       "0                     75945   False  \n",
       "1                     75945   False  \n",
       "2                     75945   False  \n",
       "3                     75945   False  \n",
       "4                     75945   False  "
      ]
     },
     "execution_count": 2,
     "metadata": {},
     "output_type": "execute_result"
    }
   ],
   "source": [
    "traffic_data = pd.read_csv('../data/bbva_usa_data/BBVA-USA-HOU-MP-M-075945.csv')\n",
    "traffic_data.head()"
   ]
  },
  {
   "cell_type": "markdown",
   "metadata": {
    "deletable": true,
    "editable": true
   },
   "source": [
    "A continuación se cargan los datos de incidencias correspondientes a la sede, también previamente procesados()"
   ]
  },
  {
   "cell_type": "code",
   "execution_count": 10,
   "metadata": {
    "collapsed": false,
    "deletable": true,
    "editable": true
   },
   "outputs": [
    {
     "data": {
      "text/html": [
       "<div>\n",
       "<style scoped>\n",
       "    .dataframe tbody tr th:only-of-type {\n",
       "        vertical-align: middle;\n",
       "    }\n",
       "\n",
       "    .dataframe tbody tr th {\n",
       "        vertical-align: top;\n",
       "    }\n",
       "\n",
       "    .dataframe thead th {\n",
       "        text-align: right;\n",
       "    }\n",
       "</style>\n",
       "<table border=\"1\" class=\"dataframe\">\n",
       "  <thead>\n",
       "    <tr style=\"text-align: right;\">\n",
       "      <th></th>\n",
       "      <th>TICKET_ID</th>\n",
       "      <th>SERVICE_TYPE</th>\n",
       "      <th>SUBMIT_DATE</th>\n",
       "      <th>LAST_MODIFICATION_DATE</th>\n",
       "      <th>ASSIGNED_SUPPORT_COMPANY</th>\n",
       "      <th>REPORTED_DATE</th>\n",
       "      <th>REPORTED_SOURCE_ID</th>\n",
       "      <th>OPERATING_COMPANY_NAME</th>\n",
       "      <th>CONTACT_COMPANY_NAME</th>\n",
       "      <th>END_USER_COUNTRY</th>\n",
       "      <th>...</th>\n",
       "      <th>OPERATIONAL_CATEGORIZATION_TIER_1</th>\n",
       "      <th>OPERATIONAL_CATEGORIZATION_TIER_2</th>\n",
       "      <th>OPERATIONAL_CATEGORIZATION_TIER_3</th>\n",
       "      <th>CLOSURE_CATEGORIZATION_TIER_1</th>\n",
       "      <th>CLOSURE_CATEGORIZATION_TIER_2</th>\n",
       "      <th>CLOSURE_CATEGORIZATION_TIER_3</th>\n",
       "      <th>VENDOR_GROUP</th>\n",
       "      <th>INF2_HPD_OUTAGE_DURATION</th>\n",
       "      <th>ADMIN_NUMBER</th>\n",
       "      <th>INSTANCEID</th>\n",
       "    </tr>\n",
       "  </thead>\n",
       "  <tbody>\n",
       "    <tr>\n",
       "      <td>0</td>\n",
       "      <td>INC000000577399</td>\n",
       "      <td>User Service Request</td>\n",
       "      <td>2017-03-06 19:49:08</td>\n",
       "      <td>2019-06-25 13:08:44</td>\n",
       "      <td>XO Communications</td>\n",
       "      <td>2017-03-06 19:49:08</td>\n",
       "      <td>15001.0</td>\n",
       "      <td>XO Communications</td>\n",
       "      <td>NaN</td>\n",
       "      <td>Spain</td>\n",
       "      <td>...</td>\n",
       "      <td>Wan Services</td>\n",
       "      <td>MWAN - Failure</td>\n",
       "      <td>Service Reports</td>\n",
       "      <td>CUSTOMER</td>\n",
       "      <td>LAN failures</td>\n",
       "      <td>NaN</td>\n",
       "      <td>XO Communications</td>\n",
       "      <td>338.0</td>\n",
       "      <td>20100322-SITEMPLS-0000075945</td>\n",
       "      <td>AGHAA5V0A57O9AOM4S3USK9DU28MAI</td>\n",
       "    </tr>\n",
       "    <tr>\n",
       "      <td>1</td>\n",
       "      <td>INC000000593918</td>\n",
       "      <td>User Service Restoration</td>\n",
       "      <td>2017-04-08 11:07:01</td>\n",
       "      <td>2019-06-25 13:08:44</td>\n",
       "      <td>XO Communications</td>\n",
       "      <td>2017-04-08 11:07:01</td>\n",
       "      <td>15001.0</td>\n",
       "      <td>XO Communications</td>\n",
       "      <td>NaN</td>\n",
       "      <td>Spain</td>\n",
       "      <td>...</td>\n",
       "      <td>Wan Services</td>\n",
       "      <td>MWAN - Performance</td>\n",
       "      <td>Frequent Cuts and Interruptions</td>\n",
       "      <td>PROVIDER</td>\n",
       "      <td>LOCAL LOOP</td>\n",
       "      <td>LL - RESTORED WITHOUT INTERVENTION</td>\n",
       "      <td>XO Communications</td>\n",
       "      <td>1.0</td>\n",
       "      <td>20100322-SITEMPLS-0000075945</td>\n",
       "      <td>AGHAA5V0A57O9AOODIHOEYSBX5FXE9</td>\n",
       "    </tr>\n",
       "    <tr>\n",
       "      <td>2</td>\n",
       "      <td>INC000000711346</td>\n",
       "      <td>User Service Restoration</td>\n",
       "      <td>2017-09-18 16:41:51</td>\n",
       "      <td>2019-06-25 13:08:44</td>\n",
       "      <td>XO Communications</td>\n",
       "      <td>2017-09-18 16:41:51</td>\n",
       "      <td>15001.0</td>\n",
       "      <td>XO Communications</td>\n",
       "      <td>NaN</td>\n",
       "      <td>Spain</td>\n",
       "      <td>...</td>\n",
       "      <td>Wan Services</td>\n",
       "      <td>MWAN - Failure</td>\n",
       "      <td>Damage in Backup Line</td>\n",
       "      <td>PROVIDER</td>\n",
       "      <td>LOCAL LOOP</td>\n",
       "      <td>LL - DAMAGED CARD</td>\n",
       "      <td>XO Communications</td>\n",
       "      <td>457.0</td>\n",
       "      <td>20100322-SITEMPLS-0000075945</td>\n",
       "      <td>AGHAA5V0A57O9AOW783QXRGBLPX35N</td>\n",
       "    </tr>\n",
       "    <tr>\n",
       "      <td>3</td>\n",
       "      <td>INC000000721052</td>\n",
       "      <td>Query Ticket</td>\n",
       "      <td>2017-09-29 03:09:15</td>\n",
       "      <td>2019-06-25 13:08:44</td>\n",
       "      <td>XO Communications</td>\n",
       "      <td>2017-09-29 03:09:15</td>\n",
       "      <td>15001.0</td>\n",
       "      <td>XO Communications</td>\n",
       "      <td>NaN</td>\n",
       "      <td>Spain</td>\n",
       "      <td>...</td>\n",
       "      <td>Wan Services</td>\n",
       "      <td>Ethernet - Failure</td>\n",
       "      <td>RFO</td>\n",
       "      <td>PROVIDER</td>\n",
       "      <td>LOCAL LOOP</td>\n",
       "      <td>LL - OTHERS</td>\n",
       "      <td>XO Communications</td>\n",
       "      <td>5444.0</td>\n",
       "      <td>20100322-SITEMPLS-0000075945</td>\n",
       "      <td>AGHAA5V0A57OPAOXAUD4IMMAJ4ZXLX</td>\n",
       "    </tr>\n",
       "    <tr>\n",
       "      <td>4</td>\n",
       "      <td>INC000001193745</td>\n",
       "      <td>User Service Restoration</td>\n",
       "      <td>2018-05-07 17:59:23</td>\n",
       "      <td>2019-06-25 13:08:44</td>\n",
       "      <td>XO Communications</td>\n",
       "      <td>2018-05-07 17:59:23</td>\n",
       "      <td>15001.0</td>\n",
       "      <td>XO Communications</td>\n",
       "      <td>Telefonica</td>\n",
       "      <td>Spain</td>\n",
       "      <td>...</td>\n",
       "      <td>Wan Services</td>\n",
       "      <td>MWAN - Failure</td>\n",
       "      <td>Damage in Backup Line</td>\n",
       "      <td>PROVIDER</td>\n",
       "      <td>LOCAL LOOP</td>\n",
       "      <td>LL - OTHERS</td>\n",
       "      <td>XO Communications</td>\n",
       "      <td>1.0</td>\n",
       "      <td>20100322-SITEMPLS-0000075945</td>\n",
       "      <td>AGGAA5V0F5WOOAPI33YZPH6PH8GNJ2</td>\n",
       "    </tr>\n",
       "  </tbody>\n",
       "</table>\n",
       "<p>5 rows × 27 columns</p>\n",
       "</div>"
      ],
      "text/plain": [
       "         TICKET_ID              SERVICE_TYPE          SUBMIT_DATE  \\\n",
       "0  INC000000577399      User Service Request  2017-03-06 19:49:08   \n",
       "1  INC000000593918  User Service Restoration  2017-04-08 11:07:01   \n",
       "2  INC000000711346  User Service Restoration  2017-09-18 16:41:51   \n",
       "3  INC000000721052              Query Ticket  2017-09-29 03:09:15   \n",
       "4  INC000001193745  User Service Restoration  2018-05-07 17:59:23   \n",
       "\n",
       "  LAST_MODIFICATION_DATE ASSIGNED_SUPPORT_COMPANY        REPORTED_DATE  \\\n",
       "0    2019-06-25 13:08:44        XO Communications  2017-03-06 19:49:08   \n",
       "1    2019-06-25 13:08:44        XO Communications  2017-04-08 11:07:01   \n",
       "2    2019-06-25 13:08:44        XO Communications  2017-09-18 16:41:51   \n",
       "3    2019-06-25 13:08:44        XO Communications  2017-09-29 03:09:15   \n",
       "4    2019-06-25 13:08:44        XO Communications  2018-05-07 17:59:23   \n",
       "\n",
       "   REPORTED_SOURCE_ID OPERATING_COMPANY_NAME CONTACT_COMPANY_NAME  \\\n",
       "0             15001.0      XO Communications                  NaN   \n",
       "1             15001.0      XO Communications                  NaN   \n",
       "2             15001.0      XO Communications                  NaN   \n",
       "3             15001.0      XO Communications                  NaN   \n",
       "4             15001.0      XO Communications           Telefonica   \n",
       "\n",
       "  END_USER_COUNTRY  ... OPERATIONAL_CATEGORIZATION_TIER_1  \\\n",
       "0            Spain  ...                      Wan Services   \n",
       "1            Spain  ...                      Wan Services   \n",
       "2            Spain  ...                      Wan Services   \n",
       "3            Spain  ...                      Wan Services   \n",
       "4            Spain  ...                      Wan Services   \n",
       "\n",
       "  OPERATIONAL_CATEGORIZATION_TIER_2 OPERATIONAL_CATEGORIZATION_TIER_3  \\\n",
       "0                    MWAN - Failure                   Service Reports   \n",
       "1                MWAN - Performance   Frequent Cuts and Interruptions   \n",
       "2                    MWAN - Failure             Damage in Backup Line   \n",
       "3                Ethernet - Failure                               RFO   \n",
       "4                    MWAN - Failure             Damage in Backup Line   \n",
       "\n",
       "  CLOSURE_CATEGORIZATION_TIER_1 CLOSURE_CATEGORIZATION_TIER_2  \\\n",
       "0                      CUSTOMER                  LAN failures   \n",
       "1                      PROVIDER                    LOCAL LOOP   \n",
       "2                      PROVIDER                    LOCAL LOOP   \n",
       "3                      PROVIDER                    LOCAL LOOP   \n",
       "4                      PROVIDER                    LOCAL LOOP   \n",
       "\n",
       "        CLOSURE_CATEGORIZATION_TIER_3       VENDOR_GROUP  \\\n",
       "0                                 NaN  XO Communications   \n",
       "1  LL - RESTORED WITHOUT INTERVENTION  XO Communications   \n",
       "2                   LL - DAMAGED CARD  XO Communications   \n",
       "3                         LL - OTHERS  XO Communications   \n",
       "4                         LL - OTHERS  XO Communications   \n",
       "\n",
       "  INF2_HPD_OUTAGE_DURATION                  ADMIN_NUMBER  \\\n",
       "0                    338.0  20100322-SITEMPLS-0000075945   \n",
       "1                      1.0  20100322-SITEMPLS-0000075945   \n",
       "2                    457.0  20100322-SITEMPLS-0000075945   \n",
       "3                   5444.0  20100322-SITEMPLS-0000075945   \n",
       "4                      1.0  20100322-SITEMPLS-0000075945   \n",
       "\n",
       "                       INSTANCEID  \n",
       "0  AGHAA5V0A57O9AOM4S3USK9DU28MAI  \n",
       "1  AGHAA5V0A57O9AOODIHOEYSBX5FXE9  \n",
       "2  AGHAA5V0A57O9AOW783QXRGBLPX35N  \n",
       "3  AGHAA5V0A57OPAOXAUD4IMMAJ4ZXLX  \n",
       "4  AGGAA5V0F5WOOAPI33YZPH6PH8GNJ2  \n",
       "\n",
       "[5 rows x 27 columns]"
      ]
     },
     "execution_count": 10,
     "metadata": {},
     "output_type": "execute_result"
    }
   ],
   "source": [
    "incidents_filtered = pd.read_csv('../data/bbva_usa_data/incidenciasBBVA-USA.csv')\n",
    "incidents_filtered.head() "
   ]
  },
  {
   "cell_type": "markdown",
   "metadata": {
    "deletable": true,
    "editable": true
   },
   "source": [
    "# Fase de entrenamiento"
   ]
  },
  {
   "cell_type": "markdown",
   "metadata": {
    "deletable": true,
    "editable": true
   },
   "source": [
    "Se seleccionan los meses de entrenamiento del modelo. Debido a que para que el funcionamiento del algoritmo sea el deseado, los datos de entrenamiento deben ser lo más \"normales\" posibles. Entendiéndose \"normal\" como libres de anomalías, en la medida de lo posible. Por ello se eliminan los 0 presentes en la serie:"
   ]
  },
  {
   "cell_type": "code",
   "execution_count": 3,
   "metadata": {
    "collapsed": true,
    "deletable": true,
    "editable": true
   },
   "outputs": [],
   "source": [
    "traffic_series = pd.Series(traffic_data.NU_TRAFFIC_INPUT.values, index = traffic_data.DT_MEASURE_DATETIME.values)\n",
    "train_data = traffic_series['2019-02-01 00:00:00':'2019-04-30 23:55:00']\n",
    "train_data = train_data[train_data != 0] "
   ]
  },
  {
   "cell_type": "code",
   "execution_count": 4,
   "metadata": {
    "collapsed": true,
    "deletable": true,
    "editable": true
   },
   "outputs": [],
   "source": [
    "num_trees = 50\n",
    "tree_size = 512\n",
    "train_index = train_data.index.values\n",
    "forest = []\n",
    "while len(forest) < num_trees:\n",
    "    samples = np.random.choice(train_index, size = (num_trees, tree_size), replace = True)\n",
    "    trees = [rrcf.RCTree(np.vstack(train_data.loc[sample].values), index_labels = sample) for sample in samples]\n",
    "    forest.extend(trees) "
   ]
  },
  {
   "cell_type": "markdown",
   "metadata": {
    "deletable": true,
    "editable": true
   },
   "source": [
    "# Fase de scoring"
   ]
  },
  {
   "cell_type": "markdown",
   "metadata": {
    "deletable": true,
    "editable": true
   },
   "source": [
    "Se seleccionan los datos que se desee *scorear*. Se simula un *scoreo* de los datos en *streaming* a través de un bucle *for*:"
   ]
  },
  {
   "cell_type": "code",
   "execution_count": null,
   "metadata": {
    "collapsed": true,
    "deletable": true,
    "editable": true
   },
   "outputs": [],
   "source": [
    "test_data = traffic_series['2019-05-01 00:00:00':'2019-11-30 23:55:00']\n",
    "codisp_no_shingle = pd.Series(0, index = test_data.index.values)\n",
    "\n",
    "for next_index,next_point in test_data.items():\n",
    "    for tree in forest:\n",
    "        tree.insert_point(next_point, index=next_index)\n",
    "        codisp_no_shingle[next_index] += tree.codisp(next_index)\n",
    "        tree.forget_point(next_index)\n",
    "avg_codisp_no_shingle = codisp_no_shingle/num_trees "
   ]
  },
  {
   "cell_type": "markdown",
   "metadata": {
    "deletable": true,
    "editable": true
   },
   "source": [
    "El resultado devuelto es un vector de *anomaly scores*. Este vector es convertido a *dataframe* para poder ser guardado y utilizado posteriormente:"
   ]
  },
  {
   "cell_type": "code",
   "execution_count": null,
   "metadata": {
    "collapsed": true,
    "deletable": true,
    "editable": true
   },
   "outputs": [],
   "source": [
    "avg_codisp_no_shingle.name = 'Anomaly score'\n",
    "avg_codisp_no_shingle = avg_codisp_no_shingle.to_frame()\n",
    "avg_codisp_no_shingle.reset_index(inplace=True)\n",
    "avg_codisp_no_shingle.rename(columns={'index':'Date'}, inplace=True)\n",
    "avg_codisp_no_shingle.describe()"
   ]
  },
  {
   "cell_type": "code",
   "execution_count": null,
   "metadata": {
    "collapsed": true,
    "deletable": true,
    "editable": true
   },
   "outputs": [],
   "source": [
    "# Se puede guardar para su posterior uso\n",
    "#avg_codisp_no_shingle.to_csv('../data/bbva_usa_data/anomaly_score_may_nov.csv', index = False)"
   ]
  },
  {
   "cell_type": "markdown",
   "metadata": {
    "deletable": true,
    "editable": true
   },
   "source": [
    "# Fase de optimización del threshold "
   ]
  },
  {
   "cell_type": "markdown",
   "metadata": {
    "deletable": true,
    "editable": true
   },
   "source": [
    "Para calcular el *threshold* óptimo, es necesario hacer cálculo previo de las intervalos asociados a las incidencias.Este intervalo consiste en el lapso de tiempo transcurrido entre la *submit_date* y la *last_resolved_date* de cada incidencia. Las alarmas lanzadas por el algoritmo durante ese intervalo no van a ser tomadas como \"falsos positivos\":"
   ]
  },
  {
   "cell_type": "code",
   "execution_count": 6,
   "metadata": {
    "collapsed": true,
    "deletable": true,
    "editable": true
   },
   "outputs": [],
   "source": [
    "# Se podrían cargar desde un fichero las anomaly_scores necesarias\n",
    "avg_codisp_no_shingle = pd.read_csv('../data/bbva_usa_data/anomaly_score_may_nov.csv')"
   ]
  },
  {
   "cell_type": "code",
   "execution_count": 37,
   "metadata": {
    "collapsed": true,
    "deletable": true,
    "editable": true
   },
   "outputs": [],
   "source": [
    "# Nos quedamos con las fechas de test y transformamos a tipo datetime\n",
    "traffic_data_test = traffic_data[(traffic_data['DT_MEASURE_DATETIME'] >= '2019-05-01 00:00:00') & (traffic_data['DT_MEASURE_DATETIME'] <= '2019-11-30 23:55:00')].copy()\n",
    "traffic_dates_test = traffic_data_test.DT_MEASURE_DATETIME.values\n",
    "traffic_dates_test = [datetime.datetime.strptime(date, '%Y-%m-%d %H:%M:%S') for date in traffic_dates_test]\n",
    "\n",
    "incidents_filtered.sort_values(by = 'SUBMIT_DATE', inplace = True)\n",
    "submit_dates_test = list(filter(lambda x: (str(x) > '2019-05-01 00:00:00' and str(x) < '2019-11-30 23:55:00'), incidents_filtered.SUBMIT_DATE.values))\n",
    "resolved_dates_test = list(filter(lambda x: (str(x) > '2019-05-01 00:00:00' and str(x) < '2019-11-30 23:55:00'), incidents_filtered.LAST_RESOLVED_DATE.values))\n",
    "\n",
    "mapped_submit_dates = [nearest_after(traffic_dates_test, submit_date) for submit_date in submit_dates_test]\n",
    "mapped_resolved_dates = [nearest_after(traffic_dates_test, resolved_date) for resolved_date in resolved_dates_test]\n",
    "\n",
    "# Eliminamos fechas que no se corresponden con anomalías reales en la serie de tráfico\n",
    "mapped_submit_dates.remove('2019-08-02 06:15:00') \n",
    "mapped_submit_dates.remove('2019-09-12 03:50:00')\n",
    "mapped_resolved_dates.remove('2019-09-12 08:00:00')\n",
    "\n",
    "# Modificamos las incidencias que se mapean al mismo instante, mapeando una de ellas al instante anterior\n",
    "mapped_submit_dates[0] = '2019-05-11 13:05:00'\n",
    "\n",
    "# Se elimina la fecha donde el campo last_resolved_date tiene el valor de NaN\n",
    "mapped_submit_dates.remove('2019-05-11 13:45:00')\n",
    "\n",
    "# Se calculan las diferencias entre submit_dates y last_resolved_dates\n",
    "differences_resolved_submit = [np.ceil((datetime.datetime.strptime(mapped_resolved_dates[i], '%Y-%m-%d %H:%M:%S') - datetime.datetime.strptime(mapped_submit_dates[i], '%Y-%m-%d %H:%M:%S')).total_seconds()/60/5) for i in range(len(mapped_resolved_dates))] # Diferencia en nº de intervalos de 5 min.\n",
    "\n",
    "traffic_data_test['INCIDENT'] = 0.0\n",
    "traffic_data_test.loc[traffic_data['DT_MEASURE_DATETIME'].isin(mapped_submit_dates), 'INCIDENT'] = 1.0\n",
    "incidents = traffic_data_test.INCIDENT.values\n",
    "\n",
    "anomaly_scores_50 = avg_codisp_no_shingle['Anomaly score'].values"
   ]
  },
  {
   "cell_type": "markdown",
   "metadata": {
    "deletable": true,
    "editable": true
   },
   "source": [
    "Se lanza la función que hace el cálculo del *threshold* óptimo en función de las incidencias registradas:"
   ]
  },
  {
   "cell_type": "code",
   "execution_count": 41,
   "metadata": {
    "collapsed": false,
    "deletable": true,
    "editable": true
   },
   "outputs": [],
   "source": [
    "prev_points = 2 \n",
    "initial_threshold = 0\n",
    "last_threshold = 250\n",
    "beta_value = 2\n",
    "num_incidents = len(mapped_resolved_dates)\n",
    "\n",
    "best_threshold = optimal_fbeta(anomaly_scores_50, incidents, prev_points, differences_resolved_submit, initial_threshold, last_threshold, beta_value, num_incidents)\n",
    "fp, fn, tp, recall, precision, f2_score = calculate_metrics(anomaly_scores_50, incidents, prev_points, best_threshold, differences_resolved_submit, beta_value, num_incidents)"
   ]
  },
  {
   "cell_type": "code",
   "execution_count": 43,
   "metadata": {
    "collapsed": false,
    "deletable": true,
    "editable": true
   },
   "outputs": [
    {
     "name": "stdout",
     "output_type": "stream",
     "text": [
      "El threshold óptimo es: 225.0\n",
      "El número de falsas alarmas es: 89\n",
      "El número incidencias no captadas es: 1\n",
      "El número de incidencias captadas es: 5\n",
      "La precisión es 0.05319148936170213 y el recall 0.8333333333333334\n",
      "La f2_score alcanzada es: 0.21186440677966104\n"
     ]
    }
   ],
   "source": [
    "print('El threshold óptimo es: {}'.format(best_threshold))\n",
    "print('El número de falsas alarmas es: {}'.format(fp))\n",
    "print('El número incidencias no captadas es: {}'.format(fn))\n",
    "print('El número de incidencias captadas es: {}'.format(tp))\n",
    "print('La precisión es {} y el recall {}'.format(precision, recall))\n",
    "print('La f2_score alcanzada es: {}'.format(f2_score))"
   ]
  },
  {
   "cell_type": "markdown",
   "metadata": {
    "collapsed": true,
    "deletable": true,
    "editable": true
   },
   "source": [
    "# Threshold estadístico"
   ]
  },
  {
   "cell_type": "code",
   "execution_count": 50,
   "metadata": {
    "collapsed": false,
    "deletable": true,
    "editable": true
   },
   "outputs": [
    {
     "data": {
      "text/plain": [
       "<matplotlib.axes._subplots.AxesSubplot at 0x125bd8320>"
      ]
     },
     "execution_count": 50,
     "metadata": {},
     "output_type": "execute_result"
    },
    {
     "data": {
      "image/png": "[encoded data removed]",
      "text/plain": [
       "<Figure size 432x288 with 1 Axes>"
      ]
     },
     "metadata": {},
     "output_type": "display_data"
    }
   ],
   "source": [
    "sns.set_style(\"darkgrid\")\n",
    "ax = sns.distplot(np.log(avg_codisp_no_shingle['Anomaly score']), label = \"Anomaly Score\")\n",
    "ax"
   ]
  },
  {
   "cell_type": "code",
   "execution_count": 51,
   "metadata": {
    "collapsed": false,
    "deletable": true,
    "editable": true
   },
   "outputs": [
    {
     "data": {
      "text/plain": [
       "<matplotlib.axes._subplots.AxesSubplot at 0x10e5be0b8>"
      ]
     },
     "execution_count": 51,
     "metadata": {},
     "output_type": "execute_result"
    },
    {
     "data": {
      "image/png": "[encoded data removed]",
      "text/plain": [
       "<Figure size 432x288 with 1 Axes>"
      ]
     },
     "metadata": {},
     "output_type": "display_data"
    }
   ],
   "source": [
    "sns.set_style(\"darkgrid\")\n",
    "ax = sns.distplot(avg_codisp_no_shingle['Anomaly score'], label = \"Anomaly Score\")\n",
    "ax"
   ]
  },
  {
   "cell_type": "code",
   "execution_count": 53,
   "metadata": {
    "collapsed": false,
    "deletable": true,
    "editable": true
   },
   "outputs": [
    {
     "data": {
      "text/plain": [
       "154.08"
      ]
     },
     "execution_count": 53,
     "metadata": {},
     "output_type": "execute_result"
    }
   ],
   "source": [
    "stat_threshold = avg_codisp_no_shingle[\"Anomaly score\"].quantile(.99)\n",
    "stat_threshold"
   ]
  },
  {
   "cell_type": "code",
   "execution_count": 55,
   "metadata": {
    "collapsed": true,
    "deletable": true,
    "editable": true
   },
   "outputs": [],
   "source": [
    "# Creamos un archivo json donde guardamos los thresholds y el forest utilizado\n",
    "forest_dict = forest_to_dict(forest) \n",
    "forest_dict[\"incident_threshold\"] = best_threshold\n",
    "forest_dict[\"statistic_threshold\"] = stat_threshold\n",
    "with open('../data/bbva_usa_data/75945_GigabitEthernet01_input.json', 'w') as output_file:\n",
    "    json.dump(forest_dict, output_file)"
   ]
  },
  {
   "cell_type": "code",
   "execution_count": null,
   "metadata": {
    "collapsed": true,
    "deletable": true,
    "editable": true
   },
   "outputs": [],
   "source": []
  }
 ],
 "metadata": {
  "kernelspec": {
   "display_name": "anomaly_detection",
   "language": "python",
   "name": "anomaly_detection"
  },
  "language_info": {
   "codemirror_mode": {
    "name": "ipython",
    "version": 3
   },
   "file_extension": ".py",
   "mimetype": "text/x-python",
   "name": "python",
   "nbconvert_exporter": "python",
   "pygments_lexer": "ipython3",
   "version": "3.6.10"
  },
  "toc": {
   "base_numbering": 1,
   "nav_menu": {},
   "number_sections": true,
   "sideBar": true,
   "skip_h1_title": false,
   "title_cell": "Table of Contents",
   "title_sidebar": "Contents",
   "toc_cell": false,
   "toc_position": {},
   "toc_section_display": true,
   "toc_window_display": false
  }
 },
 "nbformat": 4,
 "nbformat_minor": 4
}

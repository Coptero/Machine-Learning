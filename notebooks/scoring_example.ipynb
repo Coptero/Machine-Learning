{
 "cells": [
  {
   "cell_type": "code",
   "execution_count": 1,
   "metadata": {
    "collapsed": false,
    "deletable": true,
    "editable": true
   },
   "outputs": [],
   "source": [
    "import sys \n",
    "#sys.path.append('../')\n",
    "#sys.path.insert(0, '')\n",
    "from score import AnomalyScorer"
   ]
  },
  {
   "cell_type": "code",
   "execution_count": 21,
   "metadata": {
    "collapsed": true,
    "deletable": true,
    "editable": true
   },
   "outputs": [],
   "source": [
    "esp_scorer = AnomalyScorer(\"coptero-lab\", \"anomaly_detection/BBVA-ESP-MAD-MP-U-320592_GigabitEthernet02_input.json\")\n",
    "usa_scorer = AnomalyScorer(\"coptero-lab\", \"anomaly_detection/BBVA-USA-HOU-MP-M-075945_GigabitEthernet01_input.json\")\n",
    "ven_scorer = AnomalyScorer(\"coptero-lab\", \"anomaly_detection/BBVA-VEN-CCS-MP-U-320594_GigabitEthernet01_output.json\")\n",
    "cmex_scorer = AnomalyScorer(\"coptero-lab\", \"anomaly_detection/CMEX-MEX-OCCRTRDW01_GigabitEthernet000_input.json\")\n",
    "sabm_scorer = AnomalyScorer(\"coptero-lab\", \"anomaly_detection/SABM-COL-BAQ-MW-M-386781_GigabitEthernet00_input.json\")\n",
    "scot_scorer = AnomalyScorer(\"coptero-lab\", \"anomaly_detection/SCOT-CAN-TOR-MW-U-370409_GigabitEthernet003_output.json\")"
   ]
  },
  {
   "cell_type": "code",
   "execution_count": null,
   "metadata": {
    "collapsed": true
   },
   "outputs": [],
   "source": [
    "score_array = [esp_scorer, usa_scorer, ven_scorer, cmex_scorer, sabm_scorer, scot_scorer]\n",
    "\n",
    "for scorer in score_array:\n",
    "    print(\"{}  \\n\".format(scorer.score_point(0.0,'2019-04-25 09:10:00')))"
   ]
  },
  {
   "cell_type": "code",
   "execution_count": 24,
   "metadata": {
    "collapsed": false,
    "deletable": true,
    "editable": true
   },
   "outputs": [
    {
     "data": {
      "text/plain": [
       "(503.79, 1.0, 1.0)"
      ]
     },
     "execution_count": 24,
     "metadata": {},
     "output_type": "execute_result"
    }
   ],
   "source": [
    "usa_score = usa_scorer.score_point(200.3245,'2020-06-09 19:15:00')\n",
    "usa_score\n",
    "#usa_score, statistic_alarm, incident_alarm = usa_scorer.score_point(0.005,'2019-04-25 09:10:00')"
   ]
  },
  {
   "cell_type": "code",
   "execution_count": 25,
   "metadata": {
    "collapsed": false,
    "deletable": true,
    "editable": true
   },
   "outputs": [
    {
     "data": {
      "text/plain": [
       "(5.99, 0.0, 0.0)"
      ]
     },
     "execution_count": 25,
     "metadata": {},
     "output_type": "execute_result"
    }
   ],
   "source": [
    "ven_score = ven_scorer.score_point(41.975232,'2019-07-23 14:05:00')\n",
    "ven_score"
   ]
  },
  {
   "cell_type": "code",
   "execution_count": null,
   "metadata": {
    "collapsed": true
   },
   "outputs": [],
   "source": []
  }
 ],
 "metadata": {
  "kernelspec": {
   "display_name": "Python 2",
   "language": "python",
   "name": "python2"
  },
  "language_info": {
   "codemirror_mode": {
    "name": "ipython",
    "version": 2
   },
   "file_extension": ".py",
   "mimetype": "text/x-python",
   "name": "python",
   "nbconvert_exporter": "python",
   "pygments_lexer": "ipython2",
   "version": "2.7.16"
  },
  "toc": {
   "base_numbering": 1,
   "nav_menu": {},
   "number_sections": true,
   "sideBar": true,
   "skip_h1_title": false,
   "title_cell": "Table of Contents",
   "title_sidebar": "Contents",
   "toc_cell": false,
   "toc_position": {},
   "toc_section_display": true,
   "toc_window_display": false
  }
 },
 "nbformat": 4,
 "nbformat_minor": 4
}

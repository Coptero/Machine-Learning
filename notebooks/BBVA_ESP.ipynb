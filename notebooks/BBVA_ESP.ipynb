{
 "cells": [
  {
   "cell_type": "code",
   "execution_count": 1,
   "metadata": {
    "collapsed": true,
    "deletable": true,
    "editable": true
   },
   "outputs": [],
   "source": [
    "import pandas as pd\n",
    "import rrcf\n",
    "import datetime\n",
    "import numpy as np\n",
    "import sys \n",
    "#sys.path.append('..')\n",
    "#sys.path.insert(0, '')\n",
    "from helpers import forest_to_dict\n",
    "import seaborn as sns\n",
    "import json"
   ]
  },
  {
   "cell_type": "markdown",
   "metadata": {
    "deletable": true,
    "editable": true
   },
   "source": [
    "# Carga de datos"
   ]
  },
  {
   "cell_type": "code",
   "execution_count": 3,
   "metadata": {
    "collapsed": false,
    "deletable": true,
    "editable": true
   },
   "outputs": [
    {
     "name": "stderr",
     "output_type": "stream",
     "text": [
      "/Users/manuelpertejolope/anaconda3/envs/anomaly_python2/lib/python2.7/site-packages/IPython/core/interactiveshell.py:2714: DtypeWarning: Columns (9) have mixed types. Specify dtype option on import or set low_memory=False.\n",
      "  interactivity=interactivity, compiler=compiler, result=result)\n"
     ]
    },
    {
     "data": {
      "text/html": [
       "<div>\n",
       "<style scoped>\n",
       "    .dataframe tbody tr th:only-of-type {\n",
       "        vertical-align: middle;\n",
       "    }\n",
       "\n",
       "    .dataframe tbody tr th {\n",
       "        vertical-align: top;\n",
       "    }\n",
       "\n",
       "    .dataframe thead th {\n",
       "        text-align: right;\n",
       "    }\n",
       "</style>\n",
       "<table border=\"1\" class=\"dataframe\">\n",
       "  <thead>\n",
       "    <tr style=\"text-align: right;\">\n",
       "      <th></th>\n",
       "      <th>SC_ROUTER</th>\n",
       "      <th>DE_INTERFACE</th>\n",
       "      <th>NU_SPEED</th>\n",
       "      <th>NU_TRAFFIC_INPUT</th>\n",
       "      <th>NU_TRAFFIC_OUTPUT</th>\n",
       "      <th>DT_MEASURE_DATETIME</th>\n",
       "      <th>SC_INTERFACE_TYPE</th>\n",
       "      <th>DE_CUSTOMER_NAME</th>\n",
       "      <th>SD_ADMINISTRATIVE_NUMBER</th>\n",
       "      <th>WEEKEND</th>\n",
       "    </tr>\n",
       "  </thead>\n",
       "  <tbody>\n",
       "    <tr>\n",
       "      <th>0</th>\n",
       "      <td>BBVA-ESP-MAD-MP-U-320592</td>\n",
       "      <td>GigabitEthernet0/2</td>\n",
       "      <td>1000.0</td>\n",
       "      <td>49.759952</td>\n",
       "      <td>1.749641</td>\n",
       "      <td>2018-02-01 00:00:00</td>\n",
       "      <td>WAN</td>\n",
       "      <td>BBVA</td>\n",
       "      <td>320592</td>\n",
       "      <td>False</td>\n",
       "    </tr>\n",
       "    <tr>\n",
       "      <th>1</th>\n",
       "      <td>BBVA-ESP-MAD-MP-U-320592</td>\n",
       "      <td>GigabitEthernet0/2</td>\n",
       "      <td>1000.0</td>\n",
       "      <td>44.669208</td>\n",
       "      <td>1.574221</td>\n",
       "      <td>2018-02-01 00:05:00</td>\n",
       "      <td>WAN</td>\n",
       "      <td>BBVA</td>\n",
       "      <td>320592</td>\n",
       "      <td>False</td>\n",
       "    </tr>\n",
       "    <tr>\n",
       "      <th>2</th>\n",
       "      <td>BBVA-ESP-MAD-MP-U-320592</td>\n",
       "      <td>GigabitEthernet0/2</td>\n",
       "      <td>1000.0</td>\n",
       "      <td>36.042612</td>\n",
       "      <td>1.300388</td>\n",
       "      <td>2018-02-01 00:10:00</td>\n",
       "      <td>WAN</td>\n",
       "      <td>BBVA</td>\n",
       "      <td>320592</td>\n",
       "      <td>False</td>\n",
       "    </tr>\n",
       "    <tr>\n",
       "      <th>3</th>\n",
       "      <td>BBVA-ESP-MAD-MP-U-320592</td>\n",
       "      <td>GigabitEthernet0/2</td>\n",
       "      <td>1000.0</td>\n",
       "      <td>0.000000</td>\n",
       "      <td>0.000000</td>\n",
       "      <td>2018-02-01 00:15:00</td>\n",
       "      <td>WAN</td>\n",
       "      <td>BBVA</td>\n",
       "      <td>320592</td>\n",
       "      <td>False</td>\n",
       "    </tr>\n",
       "    <tr>\n",
       "      <th>4</th>\n",
       "      <td>BBVA-ESP-MAD-MP-U-320592</td>\n",
       "      <td>GigabitEthernet0/2</td>\n",
       "      <td>1000.0</td>\n",
       "      <td>49.161688</td>\n",
       "      <td>1.586237</td>\n",
       "      <td>2018-02-01 00:20:00</td>\n",
       "      <td>WAN</td>\n",
       "      <td>BBVA</td>\n",
       "      <td>320592</td>\n",
       "      <td>False</td>\n",
       "    </tr>\n",
       "  </tbody>\n",
       "</table>\n",
       "</div>"
      ],
      "text/plain": [
       "                  SC_ROUTER        DE_INTERFACE  NU_SPEED  NU_TRAFFIC_INPUT  \\\n",
       "0  BBVA-ESP-MAD-MP-U-320592  GigabitEthernet0/2    1000.0         49.759952   \n",
       "1  BBVA-ESP-MAD-MP-U-320592  GigabitEthernet0/2    1000.0         44.669208   \n",
       "2  BBVA-ESP-MAD-MP-U-320592  GigabitEthernet0/2    1000.0         36.042612   \n",
       "3  BBVA-ESP-MAD-MP-U-320592  GigabitEthernet0/2    1000.0          0.000000   \n",
       "4  BBVA-ESP-MAD-MP-U-320592  GigabitEthernet0/2    1000.0         49.161688   \n",
       "\n",
       "   NU_TRAFFIC_OUTPUT  DT_MEASURE_DATETIME SC_INTERFACE_TYPE DE_CUSTOMER_NAME  \\\n",
       "0           1.749641  2018-02-01 00:00:00               WAN             BBVA   \n",
       "1           1.574221  2018-02-01 00:05:00               WAN             BBVA   \n",
       "2           1.300388  2018-02-01 00:10:00               WAN             BBVA   \n",
       "3           0.000000  2018-02-01 00:15:00               WAN             BBVA   \n",
       "4           1.586237  2018-02-01 00:20:00               WAN             BBVA   \n",
       "\n",
       "   SD_ADMINISTRATIVE_NUMBER WEEKEND  \n",
       "0                    320592   False  \n",
       "1                    320592   False  \n",
       "2                    320592   False  \n",
       "3                    320592   False  \n",
       "4                    320592   False  "
      ]
     },
     "execution_count": 3,
     "metadata": {},
     "output_type": "execute_result"
    }
   ],
   "source": [
    "traffic_data = pd.read_csv('../data/bbva_esp_data/BBVA-ESP-MAD-MP-U-320592.csv')\n",
    "traffic_data.head()"
   ]
  },
  {
   "cell_type": "code",
   "execution_count": 6,
   "metadata": {
    "collapsed": false,
    "deletable": true,
    "editable": true
   },
   "outputs": [
    {
     "data": {
      "text/plain": [
       "(218304, 10)"
      ]
     },
     "execution_count": 6,
     "metadata": {},
     "output_type": "execute_result"
    }
   ],
   "source": [
    "traffic_data = traffic_data.loc[traffic_data.DE_INTERFACE == \"GigabitEthernet0/2\"]\n",
    "traffic_data.shape"
   ]
  },
  {
   "cell_type": "code",
   "execution_count": 7,
   "metadata": {
    "collapsed": false,
    "deletable": true,
    "editable": true
   },
   "outputs": [
    {
     "data": {
      "text/html": [
       "<div>\n",
       "<style scoped>\n",
       "    .dataframe tbody tr th:only-of-type {\n",
       "        vertical-align: middle;\n",
       "    }\n",
       "\n",
       "    .dataframe tbody tr th {\n",
       "        vertical-align: top;\n",
       "    }\n",
       "\n",
       "    .dataframe thead th {\n",
       "        text-align: right;\n",
       "    }\n",
       "</style>\n",
       "<table border=\"1\" class=\"dataframe\">\n",
       "  <thead>\n",
       "    <tr style=\"text-align: right;\">\n",
       "      <th></th>\n",
       "      <th>TICKET_ID</th>\n",
       "      <th>SERVICE_TYPE</th>\n",
       "      <th>SUBMIT_DATE</th>\n",
       "      <th>LAST_MODIFICATION_DATE</th>\n",
       "      <th>ASSIGNED_SUPPORT_COMPANY</th>\n",
       "      <th>REPORTED_DATE</th>\n",
       "      <th>REPORTED_SOURCE_ID</th>\n",
       "      <th>OPERATING_COMPANY_NAME</th>\n",
       "      <th>OPERATING_LE</th>\n",
       "      <th>CONTACT_COMPANY_NAME</th>\n",
       "      <th>...</th>\n",
       "      <th>OPERATIONAL_CATEGORIZATION_TIER_2</th>\n",
       "      <th>OPERATIONAL_CATEGORIZATION_TIER_3</th>\n",
       "      <th>CLOSURE_CATEGORIZATION_TIER_1</th>\n",
       "      <th>CLOSURE_CATEGORIZATION_TIER_2</th>\n",
       "      <th>CLOSURE_CATEGORIZATION_TIER_3</th>\n",
       "      <th>VENDOR_GROUP</th>\n",
       "      <th>INF2_HPD_OUTAGE_DURATION</th>\n",
       "      <th>CI_COUNTRY</th>\n",
       "      <th>ADMIN_NUMBER</th>\n",
       "      <th>INSTANCEID</th>\n",
       "    </tr>\n",
       "  </thead>\n",
       "  <tbody>\n",
       "    <tr>\n",
       "      <th>0</th>\n",
       "      <td>INC000001820715</td>\n",
       "      <td>User Service Restoration</td>\n",
       "      <td>2019-07-22 23:18:25</td>\n",
       "      <td>2019-07-23 03:00:26</td>\n",
       "      <td>Telefonica</td>\n",
       "      <td>2019-07-22 23:18:22</td>\n",
       "      <td>12001.0</td>\n",
       "      <td>Telefónica Venezuela (TELCEL)</td>\n",
       "      <td>Banco Bilbao Vizcaya Argentaria (BBVA)</td>\n",
       "      <td>NaN</td>\n",
       "      <td>...</td>\n",
       "      <td>Total Isolation</td>\n",
       "      <td>Total Isolation</td>\n",
       "      <td>NO DATA</td>\n",
       "      <td>NO DATA</td>\n",
       "      <td>NO DATA</td>\n",
       "      <td>NaN</td>\n",
       "      <td>0.0</td>\n",
       "      <td>Spain</td>\n",
       "      <td>20110621-SITEMPLS-0000320592</td>\n",
       "      <td>IDGAA5V0F6F35APVC6QPPUEY40KLHB</td>\n",
       "    </tr>\n",
       "    <tr>\n",
       "      <th>1</th>\n",
       "      <td>INC000001824417</td>\n",
       "      <td>User Service Restoration</td>\n",
       "      <td>2019-07-25 05:33:30</td>\n",
       "      <td>2019-07-25 05:36:37</td>\n",
       "      <td>Telefonica</td>\n",
       "      <td>2019-07-25 05:33:26</td>\n",
       "      <td>12001.0</td>\n",
       "      <td>Telefónica Venezuela (TELCEL)</td>\n",
       "      <td>Banco Bilbao Vizcaya Argentaria (BBVA)</td>\n",
       "      <td>NaN</td>\n",
       "      <td>...</td>\n",
       "      <td>Total Isolation</td>\n",
       "      <td>Total Isolation</td>\n",
       "      <td>Provider</td>\n",
       "      <td>Local Loop</td>\n",
       "      <td>Restored automatically without intervention</td>\n",
       "      <td>NaN</td>\n",
       "      <td>3.0</td>\n",
       "      <td>Spain</td>\n",
       "      <td>20110621-SITEMPLS-0000320592</td>\n",
       "      <td>IDGAA5V0F6F35APVGN5UPUJFD5QV1T</td>\n",
       "    </tr>\n",
       "    <tr>\n",
       "      <th>2</th>\n",
       "      <td>INC000001824755</td>\n",
       "      <td>User Service Restoration</td>\n",
       "      <td>2019-07-25 05:41:53</td>\n",
       "      <td>2019-07-26 03:00:05</td>\n",
       "      <td>Telefonica</td>\n",
       "      <td>2019-07-25 05:40:05</td>\n",
       "      <td>1000.0</td>\n",
       "      <td>Telefónica Venezuela (TELCEL)</td>\n",
       "      <td>Banco Bilbao Vizcaya Argentaria (BBVA)</td>\n",
       "      <td>NaN</td>\n",
       "      <td>...</td>\n",
       "      <td>Total Isolation</td>\n",
       "      <td>Total Isolation</td>\n",
       "      <td>NO DATA</td>\n",
       "      <td>NO DATA</td>\n",
       "      <td>NO DATA</td>\n",
       "      <td>Telefonica de España CCT Akamai</td>\n",
       "      <td>0.0</td>\n",
       "      <td>Spain</td>\n",
       "      <td>20110621-SITEMPLS-0000320592</td>\n",
       "      <td>AGGAA5V0F5WOOAPVGNTTPUJHUQMKTQ</td>\n",
       "    </tr>\n",
       "    <tr>\n",
       "      <th>3</th>\n",
       "      <td>INC000001824758</td>\n",
       "      <td>User Service Restoration</td>\n",
       "      <td>2019-07-25 05:45:25</td>\n",
       "      <td>2019-12-10 08:37:44</td>\n",
       "      <td>TELEFONICA DE ESPAÑA, S.A.U.</td>\n",
       "      <td>2019-07-25 05:45:25</td>\n",
       "      <td>15001.0</td>\n",
       "      <td>TELEFONICA DE ESPAÑA, S.A.U.</td>\n",
       "      <td>Telefonica de España CCT Akamai</td>\n",
       "      <td>Telefonica</td>\n",
       "      <td>...</td>\n",
       "      <td>Total Isolation</td>\n",
       "      <td>Total Isolation</td>\n",
       "      <td>NaN</td>\n",
       "      <td>NaN</td>\n",
       "      <td>NaN</td>\n",
       "      <td>Telefonica de España CCT Akamai</td>\n",
       "      <td>0.0</td>\n",
       "      <td>NaN</td>\n",
       "      <td>20110621-SITEMPLS-0000320592</td>\n",
       "      <td>AGGAA5V0F5WOOAPVGNZPPUJIAMMKY1</td>\n",
       "    </tr>\n",
       "    <tr>\n",
       "      <th>4</th>\n",
       "      <td>INC000001934182</td>\n",
       "      <td>User Service Restoration</td>\n",
       "      <td>2019-10-09 23:38:12</td>\n",
       "      <td>2019-10-18 02:06:44</td>\n",
       "      <td>Telefonica</td>\n",
       "      <td>2019-10-09 23:38:07</td>\n",
       "      <td>12001.0</td>\n",
       "      <td>TELCEL C.A. (TEL MOV VENEZUELA)</td>\n",
       "      <td>TELCEL C.A. (TEL MOV VENEZUELA)</td>\n",
       "      <td>NaN</td>\n",
       "      <td>...</td>\n",
       "      <td>Total Isolation</td>\n",
       "      <td>Total Isolation</td>\n",
       "      <td>Telefonica TIWS</td>\n",
       "      <td>International Backbone Network</td>\n",
       "      <td>Emergency work</td>\n",
       "      <td>NaN</td>\n",
       "      <td>18.0</td>\n",
       "      <td>Spain</td>\n",
       "      <td>20110621-SITEMPLS-0000320592</td>\n",
       "      <td>IDGAA5V0F5V26APZES1OPYHEUUCJ7J</td>\n",
       "    </tr>\n",
       "  </tbody>\n",
       "</table>\n",
       "<p>5 rows × 29 columns</p>\n",
       "</div>"
      ],
      "text/plain": [
       "         TICKET_ID              SERVICE_TYPE          SUBMIT_DATE  \\\n",
       "0  INC000001820715  User Service Restoration  2019-07-22 23:18:25   \n",
       "1  INC000001824417  User Service Restoration  2019-07-25 05:33:30   \n",
       "2  INC000001824755  User Service Restoration  2019-07-25 05:41:53   \n",
       "3  INC000001824758  User Service Restoration  2019-07-25 05:45:25   \n",
       "4  INC000001934182  User Service Restoration  2019-10-09 23:38:12   \n",
       "\n",
       "  LAST_MODIFICATION_DATE      ASSIGNED_SUPPORT_COMPANY        REPORTED_DATE  \\\n",
       "0    2019-07-23 03:00:26                    Telefonica  2019-07-22 23:18:22   \n",
       "1    2019-07-25 05:36:37                    Telefonica  2019-07-25 05:33:26   \n",
       "2    2019-07-26 03:00:05                    Telefonica  2019-07-25 05:40:05   \n",
       "3    2019-12-10 08:37:44  TELEFONICA DE ESPAÑA, S.A.U.  2019-07-25 05:45:25   \n",
       "4    2019-10-18 02:06:44                    Telefonica  2019-10-09 23:38:07   \n",
       "\n",
       "   REPORTED_SOURCE_ID           OPERATING_COMPANY_NAME  \\\n",
       "0             12001.0    Telefónica Venezuela (TELCEL)   \n",
       "1             12001.0    Telefónica Venezuela (TELCEL)   \n",
       "2              1000.0    Telefónica Venezuela (TELCEL)   \n",
       "3             15001.0     TELEFONICA DE ESPAÑA, S.A.U.   \n",
       "4             12001.0  TELCEL C.A. (TEL MOV VENEZUELA)   \n",
       "\n",
       "                             OPERATING_LE CONTACT_COMPANY_NAME  ...  \\\n",
       "0  Banco Bilbao Vizcaya Argentaria (BBVA)                  NaN  ...   \n",
       "1  Banco Bilbao Vizcaya Argentaria (BBVA)                  NaN  ...   \n",
       "2  Banco Bilbao Vizcaya Argentaria (BBVA)                  NaN  ...   \n",
       "3         Telefonica de España CCT Akamai           Telefonica  ...   \n",
       "4         TELCEL C.A. (TEL MOV VENEZUELA)                  NaN  ...   \n",
       "\n",
       "  OPERATIONAL_CATEGORIZATION_TIER_2 OPERATIONAL_CATEGORIZATION_TIER_3  \\\n",
       "0                   Total Isolation                   Total Isolation   \n",
       "1                   Total Isolation                   Total Isolation   \n",
       "2                   Total Isolation                   Total Isolation   \n",
       "3                   Total Isolation                   Total Isolation   \n",
       "4                   Total Isolation                   Total Isolation   \n",
       "\n",
       "  CLOSURE_CATEGORIZATION_TIER_1   CLOSURE_CATEGORIZATION_TIER_2  \\\n",
       "0                       NO DATA                         NO DATA   \n",
       "1                      Provider                      Local Loop   \n",
       "2                       NO DATA                         NO DATA   \n",
       "3                           NaN                             NaN   \n",
       "4               Telefonica TIWS  International Backbone Network   \n",
       "\n",
       "                 CLOSURE_CATEGORIZATION_TIER_3  \\\n",
       "0                                      NO DATA   \n",
       "1  Restored automatically without intervention   \n",
       "2                                      NO DATA   \n",
       "3                                          NaN   \n",
       "4                               Emergency work   \n",
       "\n",
       "                      VENDOR_GROUP INF2_HPD_OUTAGE_DURATION CI_COUNTRY  \\\n",
       "0                              NaN                      0.0      Spain   \n",
       "1                              NaN                      3.0      Spain   \n",
       "2  Telefonica de España CCT Akamai                      0.0      Spain   \n",
       "3  Telefonica de España CCT Akamai                      0.0        NaN   \n",
       "4                              NaN                     18.0      Spain   \n",
       "\n",
       "                   ADMIN_NUMBER                      INSTANCEID  \n",
       "0  20110621-SITEMPLS-0000320592  IDGAA5V0F6F35APVC6QPPUEY40KLHB  \n",
       "1  20110621-SITEMPLS-0000320592  IDGAA5V0F6F35APVGN5UPUJFD5QV1T  \n",
       "2  20110621-SITEMPLS-0000320592  AGGAA5V0F5WOOAPVGNTTPUJHUQMKTQ  \n",
       "3  20110621-SITEMPLS-0000320592  AGGAA5V0F5WOOAPVGNZPPUJIAMMKY1  \n",
       "4  20110621-SITEMPLS-0000320592  IDGAA5V0F5V26APZES1OPYHEUUCJ7J  \n",
       "\n",
       "[5 rows x 29 columns]"
      ]
     },
     "execution_count": 7,
     "metadata": {},
     "output_type": "execute_result"
    }
   ],
   "source": [
    "incidents_filtered = pd.read_csv('../data/bbva_esp_data/incidenciasBBVA-España.csv')\n",
    "incidents_filtered.head() "
   ]
  },
  {
   "cell_type": "markdown",
   "metadata": {
    "deletable": true,
    "editable": true
   },
   "source": [
    "# Fase de entrenamiento "
   ]
  },
  {
   "cell_type": "code",
   "execution_count": 8,
   "metadata": {
    "collapsed": true,
    "deletable": true,
    "editable": true
   },
   "outputs": [],
   "source": [
    "traffic_series = pd.Series(traffic_data.NU_TRAFFIC_INPUT.values, index = traffic_data.DT_MEASURE_DATETIME.values)\n",
    "train_data = traffic_series['2019-01-01 00:00:00':'2019-03-31 23:55:00']\n",
    "train_data = train_data[train_data != 0] "
   ]
  },
  {
   "cell_type": "code",
   "execution_count": 9,
   "metadata": {
    "collapsed": true,
    "deletable": true,
    "editable": true
   },
   "outputs": [],
   "source": [
    "num_trees = 50\n",
    "tree_size = 512\n",
    "train_index = train_data.index.values\n",
    "forest = []\n",
    "while len(forest) < num_trees:\n",
    "    samples = np.random.choice(train_index, size = (num_trees, tree_size), replace = True)\n",
    "    trees = [rrcf.RCTree(np.vstack(train_data.loc[sample].values), index_labels = sample) for sample in samples]\n",
    "    forest.extend(trees) "
   ]
  },
  {
   "cell_type": "markdown",
   "metadata": {
    "deletable": true,
    "editable": true
   },
   "source": [
    "# Fase de scoring "
   ]
  },
  {
   "cell_type": "code",
   "execution_count": null,
   "metadata": {
    "collapsed": true,
    "deletable": true,
    "editable": true
   },
   "outputs": [],
   "source": [
    "test_data = traffic_series['2019-04-01 00:00:00':'2019-12-31 23:55:00']\n",
    "codisp_no_shingle = pd.Series(0, index = test_data.index.values)\n",
    "\n",
    "for next_index,next_point in test_data.items():\n",
    "    for tree in forest:\n",
    "        tree.insert_point(next_point, index=next_index)\n",
    "        codisp_no_shingle[next_index] += tree.codisp(next_index)\n",
    "        tree.forget_point(next_index)\n",
    "avg_codisp_no_shingle = codisp_no_shingle/num_trees "
   ]
  },
  {
   "cell_type": "code",
   "execution_count": null,
   "metadata": {
    "collapsed": true,
    "deletable": true,
    "editable": true
   },
   "outputs": [],
   "source": [
    "avg_codisp_no_shingle.name = 'Anomaly score'\n",
    "avg_codisp_no_shingle = avg_codisp_no_shingle.to_frame()\n",
    "avg_codisp_no_shingle.reset_index(inplace=True)\n",
    "avg_codisp_no_shingle.rename(columns={'index':'Date'}, inplace=True)\n",
    "avg_codisp_no_shingle.describe()"
   ]
  },
  {
   "cell_type": "code",
   "execution_count": null,
   "metadata": {
    "collapsed": true,
    "deletable": true,
    "editable": true
   },
   "outputs": [],
   "source": [
    "# Se puede guardar para su posterior uso\n",
    "#avg_codisp_no_shingle.to_csv('../data/bbva_esp_data/bbva_esp_anomaly_score_abr_dic.csv', index = False)"
   ]
  },
  {
   "cell_type": "markdown",
   "metadata": {
    "deletable": true,
    "editable": true
   },
   "source": [
    "# Selección de threshold estadístico"
   ]
  },
  {
   "cell_type": "code",
   "execution_count": 11,
   "metadata": {
    "collapsed": true,
    "deletable": true,
    "editable": true
   },
   "outputs": [],
   "source": [
    "avg_codisp_no_shingle = pd.read_csv(\"../data/bbva_esp_data/bbva_esp_anomaly_score_abr_dic.csv\")"
   ]
  },
  {
   "cell_type": "code",
   "execution_count": 12,
   "metadata": {
    "collapsed": false,
    "deletable": true,
    "editable": true
   },
   "outputs": [
    {
     "data": {
      "text/plain": [
       "<matplotlib.axes._subplots.AxesSubplot at 0x1193487d0>"
      ]
     },
     "execution_count": 12,
     "metadata": {},
     "output_type": "execute_result"
    },
    {
     "data": {
      "image/png": "[encoded data removed]",
      "text/plain": [
       "<Figure size 432x288 with 1 Axes>"
      ]
     },
     "metadata": {},
     "output_type": "display_data"
    }
   ],
   "source": [
    "sns.set_style(\"darkgrid\")\n",
    "ax = sns.distplot(np.log(avg_codisp_no_shingle['Anomaly score']), label = \"Anomaly Score\")\n",
    "ax"
   ]
  },
  {
   "cell_type": "code",
   "execution_count": 13,
   "metadata": {
    "collapsed": false,
    "deletable": true,
    "editable": true
   },
   "outputs": [
    {
     "data": {
      "text/plain": [
       "<matplotlib.axes._subplots.AxesSubplot at 0x119929650>"
      ]
     },
     "execution_count": 13,
     "metadata": {},
     "output_type": "execute_result"
    },
    {
     "data": {
      "image/png": "[encoded data removed]",
      "text/plain": [
       "<Figure size 432x288 with 1 Axes>"
      ]
     },
     "metadata": {},
     "output_type": "display_data"
    }
   ],
   "source": [
    "sns.set_style(\"darkgrid\")\n",
    "ax = sns.distplot(avg_codisp_no_shingle['Anomaly score'], label = \"Anomaly Score\")\n",
    "ax"
   ]
  },
  {
   "cell_type": "code",
   "execution_count": 14,
   "metadata": {
    "collapsed": false,
    "deletable": true,
    "editable": true
   },
   "outputs": [
    {
     "data": {
      "text/plain": [
       "152.64"
      ]
     },
     "execution_count": 14,
     "metadata": {},
     "output_type": "execute_result"
    }
   ],
   "source": [
    "stat_threshold = avg_codisp_no_shingle[\"Anomaly score\"].quantile(.99)\n",
    "stat_threshold"
   ]
  },
  {
   "cell_type": "code",
   "execution_count": 17,
   "metadata": {
    "collapsed": true,
    "deletable": true,
    "editable": true
   },
   "outputs": [],
   "source": [
    "# Creamos un archivo json donde guardamos los thresholds y el forest utilizado\n",
    "forest_dict = forest_to_dict(forest) \n",
    "forest_dict[\"statistic_threshold\"] = stat_threshold\n",
    "with open('../data/bbva_esp_data/BBVA-ESP-MAD-MP-U-320592_GigabitEthernet02_input.json', 'w') as output_file:\n",
    "    json.dump(forest_dict, output_file)"
   ]
  },
  {
   "cell_type": "code",
   "execution_count": null,
   "metadata": {
    "collapsed": true,
    "deletable": true,
    "editable": true
   },
   "outputs": [],
   "source": []
  }
 ],
 "metadata": {
  "kernelspec": {
   "display_name": "Python 2",
   "language": "python",
   "name": "python2"
  },
  "language_info": {
   "codemirror_mode": {
    "name": "ipython",
    "version": 2
   },
   "file_extension": ".py",
   "mimetype": "text/x-python",
   "name": "python",
   "nbconvert_exporter": "python",
   "pygments_lexer": "ipython2",
   "version": "2.7.16"
  },
  "toc": {
   "base_numbering": 1,
   "nav_menu": {},
   "number_sections": true,
   "sideBar": true,
   "skip_h1_title": false,
   "title_cell": "Table of Contents",
   "title_sidebar": "Contents",
   "toc_cell": false,
   "toc_position": {},
   "toc_section_display": true,
   "toc_window_display": false
  }
 },
 "nbformat": 4,
 "nbformat_minor": 2
}

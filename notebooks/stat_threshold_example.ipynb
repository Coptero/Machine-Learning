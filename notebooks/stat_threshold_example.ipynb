{
 "cells": [
  {
   "cell_type": "code",
   "execution_count": 5,
   "metadata": {
    "collapsed": false,
    "deletable": true,
    "editable": true
   },
   "outputs": [],
   "source": [
    "import pandas as pd\n",
    "import rrcf\n",
    "import numpy as np\n",
    "import sys\n",
    "#sys.path.append('..')\n",
    "#sys.path.insert(0, '')\n",
    "from helpers import forest_to_dict\n",
    "import seaborn as sns\n",
    "import json"
   ]
  },
  {
   "cell_type": "markdown",
   "metadata": {
    "deletable": true,
    "editable": true
   },
   "source": [
    "# Carga de datos"
   ]
  },
  {
   "cell_type": "markdown",
   "metadata": {
    "deletable": true,
    "editable": true
   },
   "source": [
    "En primer lugar, se cargan los ficheros de tráfico de la sede que se desee analizar. Estos ficheros deben haber sido previamente procesados ():"
   ]
  },
  {
   "cell_type": "code",
   "execution_count": 11,
   "metadata": {
    "collapsed": false,
    "deletable": true,
    "editable": true
   },
   "outputs": [
    {
     "data": {
      "text/html": [
       "<div>\n",
       "<style scoped>\n",
       "    .dataframe tbody tr th:only-of-type {\n",
       "        vertical-align: middle;\n",
       "    }\n",
       "\n",
       "    .dataframe tbody tr th {\n",
       "        vertical-align: top;\n",
       "    }\n",
       "\n",
       "    .dataframe thead th {\n",
       "        text-align: right;\n",
       "    }\n",
       "</style>\n",
       "<table border=\"1\" class=\"dataframe\">\n",
       "  <thead>\n",
       "    <tr style=\"text-align: right;\">\n",
       "      <th></th>\n",
       "      <th>SC_ROUTER</th>\n",
       "      <th>DE_INTERFACE</th>\n",
       "      <th>NU_SPEED</th>\n",
       "      <th>NU_TRAFFIC_INPUT</th>\n",
       "      <th>NU_TRAFFIC_OUTPUT</th>\n",
       "      <th>DT_MEASURE_DATETIME</th>\n",
       "      <th>SC_INTERFACE_TYPE</th>\n",
       "      <th>DE_CUSTOMER_NAME</th>\n",
       "      <th>SD_ADMINISTRATIVE_NUMBER</th>\n",
       "      <th>WEEKEND</th>\n",
       "    </tr>\n",
       "  </thead>\n",
       "  <tbody>\n",
       "    <tr>\n",
       "      <th>0</th>\n",
       "      <td>BBVA-VEN-CCS-MP-U-320594</td>\n",
       "      <td>GigabitEthernet0/1</td>\n",
       "      <td>122.88</td>\n",
       "      <td>1.401181</td>\n",
       "      <td>41.975232</td>\n",
       "      <td>2018-03-01 00:00:00</td>\n",
       "      <td>WAN</td>\n",
       "      <td>BBVA</td>\n",
       "      <td>320594</td>\n",
       "      <td>False</td>\n",
       "    </tr>\n",
       "    <tr>\n",
       "      <th>1</th>\n",
       "      <td>BBVA-VEN-CCS-MP-U-320594</td>\n",
       "      <td>GigabitEthernet0/1</td>\n",
       "      <td>122.88</td>\n",
       "      <td>1.418632</td>\n",
       "      <td>42.995528</td>\n",
       "      <td>2018-03-01 00:05:00</td>\n",
       "      <td>WAN</td>\n",
       "      <td>BBVA</td>\n",
       "      <td>320594</td>\n",
       "      <td>False</td>\n",
       "    </tr>\n",
       "    <tr>\n",
       "      <th>2</th>\n",
       "      <td>BBVA-VEN-CCS-MP-U-320594</td>\n",
       "      <td>GigabitEthernet0/1</td>\n",
       "      <td>122.88</td>\n",
       "      <td>1.427320</td>\n",
       "      <td>43.089572</td>\n",
       "      <td>2018-03-01 00:10:00</td>\n",
       "      <td>WAN</td>\n",
       "      <td>BBVA</td>\n",
       "      <td>320594</td>\n",
       "      <td>False</td>\n",
       "    </tr>\n",
       "    <tr>\n",
       "      <th>3</th>\n",
       "      <td>BBVA-VEN-CCS-MP-U-320594</td>\n",
       "      <td>GigabitEthernet0/1</td>\n",
       "      <td>122.88</td>\n",
       "      <td>1.430821</td>\n",
       "      <td>42.490928</td>\n",
       "      <td>2018-03-01 00:15:00</td>\n",
       "      <td>WAN</td>\n",
       "      <td>BBVA</td>\n",
       "      <td>320594</td>\n",
       "      <td>False</td>\n",
       "    </tr>\n",
       "    <tr>\n",
       "      <th>4</th>\n",
       "      <td>BBVA-VEN-CCS-MP-U-320594</td>\n",
       "      <td>GigabitEthernet0/1</td>\n",
       "      <td>122.88</td>\n",
       "      <td>1.438027</td>\n",
       "      <td>43.630344</td>\n",
       "      <td>2018-03-01 00:20:00</td>\n",
       "      <td>WAN</td>\n",
       "      <td>BBVA</td>\n",
       "      <td>320594</td>\n",
       "      <td>False</td>\n",
       "    </tr>\n",
       "  </tbody>\n",
       "</table>\n",
       "</div>"
      ],
      "text/plain": [
       "                  SC_ROUTER        DE_INTERFACE  NU_SPEED  NU_TRAFFIC_INPUT  \\\n",
       "0  BBVA-VEN-CCS-MP-U-320594  GigabitEthernet0/1    122.88          1.401181   \n",
       "1  BBVA-VEN-CCS-MP-U-320594  GigabitEthernet0/1    122.88          1.418632   \n",
       "2  BBVA-VEN-CCS-MP-U-320594  GigabitEthernet0/1    122.88          1.427320   \n",
       "3  BBVA-VEN-CCS-MP-U-320594  GigabitEthernet0/1    122.88          1.430821   \n",
       "4  BBVA-VEN-CCS-MP-U-320594  GigabitEthernet0/1    122.88          1.438027   \n",
       "\n",
       "   NU_TRAFFIC_OUTPUT  DT_MEASURE_DATETIME SC_INTERFACE_TYPE DE_CUSTOMER_NAME  \\\n",
       "0          41.975232  2018-03-01 00:00:00               WAN             BBVA   \n",
       "1          42.995528  2018-03-01 00:05:00               WAN             BBVA   \n",
       "2          43.089572  2018-03-01 00:10:00               WAN             BBVA   \n",
       "3          42.490928  2018-03-01 00:15:00               WAN             BBVA   \n",
       "4          43.630344  2018-03-01 00:20:00               WAN             BBVA   \n",
       "\n",
       "   SD_ADMINISTRATIVE_NUMBER WEEKEND  \n",
       "0                    320594   False  \n",
       "1                    320594   False  \n",
       "2                    320594   False  \n",
       "3                    320594   False  \n",
       "4                    320594   False  "
      ]
     },
     "execution_count": 11,
     "metadata": {},
     "output_type": "execute_result"
    }
   ],
   "source": [
    "traffic_data = pd.read_csv('../data/bbva_ven_data/BBVA-VEN-CCS-MP-U-320594.csv')\n",
    "traffic_data.head()"
   ]
  },
  {
   "cell_type": "markdown",
   "metadata": {
    "deletable": true,
    "editable": true
   },
   "source": [
    "A continuación se cargan los datos de incidencias correspondientes a la sede, también previamente procesados()"
   ]
  },
  {
   "cell_type": "code",
   "execution_count": 3,
   "metadata": {
    "collapsed": false,
    "deletable": true,
    "editable": true
   },
   "outputs": [
    {
     "data": {
      "text/html": [
       "<div>\n",
       "<style scoped>\n",
       "    .dataframe tbody tr th:only-of-type {\n",
       "        vertical-align: middle;\n",
       "    }\n",
       "\n",
       "    .dataframe tbody tr th {\n",
       "        vertical-align: top;\n",
       "    }\n",
       "\n",
       "    .dataframe thead th {\n",
       "        text-align: right;\n",
       "    }\n",
       "</style>\n",
       "<table border=\"1\" class=\"dataframe\">\n",
       "  <thead>\n",
       "    <tr style=\"text-align: right;\">\n",
       "      <th></th>\n",
       "      <th>TICKET_ID</th>\n",
       "      <th>SERVICE_TYPE</th>\n",
       "      <th>SUBMIT_DATE</th>\n",
       "      <th>LAST_MODIFICATION_DATE</th>\n",
       "      <th>ASSIGNED_SUPPORT_COMPANY</th>\n",
       "      <th>REPORTED_DATE</th>\n",
       "      <th>REPORTED_SOURCE_ID</th>\n",
       "      <th>OPERATING_COMPANY_NAME</th>\n",
       "      <th>OPERATING_LE</th>\n",
       "      <th>CONTACT_COMPANY_NAME</th>\n",
       "      <th>...</th>\n",
       "      <th>OPERATIONAL_CATEGORIZATION_TIER_2</th>\n",
       "      <th>OPERATIONAL_CATEGORIZATION_TIER_3</th>\n",
       "      <th>CLOSURE_CATEGORIZATION_TIER_1</th>\n",
       "      <th>CLOSURE_CATEGORIZATION_TIER_2</th>\n",
       "      <th>CLOSURE_CATEGORIZATION_TIER_3</th>\n",
       "      <th>VENDOR_GROUP</th>\n",
       "      <th>INF2_HPD_OUTAGE_DURATION</th>\n",
       "      <th>CI_COUNTRY</th>\n",
       "      <th>ADMIN_NUMBER</th>\n",
       "      <th>INSTANCEID</th>\n",
       "    </tr>\n",
       "  </thead>\n",
       "  <tbody>\n",
       "    <tr>\n",
       "      <td>0</td>\n",
       "      <td>INC000000581948</td>\n",
       "      <td>User Service Restoration</td>\n",
       "      <td>2017-03-15 22:45:03</td>\n",
       "      <td>2019-07-18 19:50:08</td>\n",
       "      <td>Telefonica</td>\n",
       "      <td>2017-03-15 22:44:47</td>\n",
       "      <td>2000.0</td>\n",
       "      <td>Telefónica Venezuela (TELCEL)</td>\n",
       "      <td>Banco Bilbao Vizcaya Argentaria (BBVA)</td>\n",
       "      <td>NaN</td>\n",
       "      <td>...</td>\n",
       "      <td>MWAN - Performance</td>\n",
       "      <td>Slowness and/or Delays</td>\n",
       "      <td>CUSTOMER</td>\n",
       "      <td>Bad request</td>\n",
       "      <td>NaN</td>\n",
       "      <td>Telefónica Venezuela (TELCEL)</td>\n",
       "      <td>2.0</td>\n",
       "      <td>Venezuela</td>\n",
       "      <td>20110621-SITEMPLS-0000320594</td>\n",
       "      <td>IDHAA5V0A57OPAOMVNZIBDAVKB2CW8</td>\n",
       "    </tr>\n",
       "    <tr>\n",
       "      <td>1</td>\n",
       "      <td>INC000000581960</td>\n",
       "      <td>User Service Restoration</td>\n",
       "      <td>2017-03-15 23:28:23</td>\n",
       "      <td>2019-07-18 19:51:05</td>\n",
       "      <td>Telefónica Venezuela (TELCEL)</td>\n",
       "      <td>2017-03-15 23:28:23</td>\n",
       "      <td>15001.0</td>\n",
       "      <td>Telefónica Venezuela (TELCEL)</td>\n",
       "      <td>TELCEL C.A. (TEL MOV VENEZUELA)</td>\n",
       "      <td>NaN</td>\n",
       "      <td>...</td>\n",
       "      <td>MWAN - Performance</td>\n",
       "      <td>Slowness and/or Delays</td>\n",
       "      <td>CUSTOMER</td>\n",
       "      <td>Bad request</td>\n",
       "      <td>NaN</td>\n",
       "      <td>Telefónica Venezuela (TELCEL)</td>\n",
       "      <td>2.0</td>\n",
       "      <td>Venezuela</td>\n",
       "      <td>20110621-SITEMPLS-0000320594</td>\n",
       "      <td>AGHAA5V0A57OPAOMVQ9JBEZWFY27IL</td>\n",
       "    </tr>\n",
       "    <tr>\n",
       "      <td>2</td>\n",
       "      <td>INC000000582963</td>\n",
       "      <td>User Service Restoration</td>\n",
       "      <td>2017-03-18 01:13:21</td>\n",
       "      <td>2019-07-18 19:50:08</td>\n",
       "      <td>Telefonica</td>\n",
       "      <td>2017-03-18 01:06:56</td>\n",
       "      <td>1000.0</td>\n",
       "      <td>Telefónica Venezuela (TELCEL)</td>\n",
       "      <td>Banco Bilbao Vizcaya Argentaria (BBVA)</td>\n",
       "      <td>NaN</td>\n",
       "      <td>...</td>\n",
       "      <td>MWAN - Failure</td>\n",
       "      <td>Service Reports</td>\n",
       "      <td>CUSTOMER</td>\n",
       "      <td>Bad request</td>\n",
       "      <td>NaN</td>\n",
       "      <td>Telefónica Venezuela (TELCEL)</td>\n",
       "      <td>1.0</td>\n",
       "      <td>Venezuela</td>\n",
       "      <td>20110621-SITEMPLS-0000320594</td>\n",
       "      <td>AGHAA5V0A57OPAOMZKQHEDMK9IF6NO</td>\n",
       "    </tr>\n",
       "    <tr>\n",
       "      <td>3</td>\n",
       "      <td>INC000000582968</td>\n",
       "      <td>User Service Restoration</td>\n",
       "      <td>2017-03-18 01:29:38</td>\n",
       "      <td>2019-07-18 19:51:05</td>\n",
       "      <td>Telefónica Venezuela (TELCEL)</td>\n",
       "      <td>2017-03-18 01:29:38</td>\n",
       "      <td>15001.0</td>\n",
       "      <td>Telefónica Venezuela (TELCEL)</td>\n",
       "      <td>TELCEL C.A. (TEL MOV VENEZUELA)</td>\n",
       "      <td>NaN</td>\n",
       "      <td>...</td>\n",
       "      <td>MWAN - Failure</td>\n",
       "      <td>Service Reports</td>\n",
       "      <td>CUSTOMER</td>\n",
       "      <td>Bad request</td>\n",
       "      <td>NaN</td>\n",
       "      <td>Telefónica Venezuela (TELCEL)</td>\n",
       "      <td>1.0</td>\n",
       "      <td>NaN</td>\n",
       "      <td>20110621-SITEMPLS-0000320594</td>\n",
       "      <td>AGHAA5V0A57OPAOMZL72EEH87HFRC5</td>\n",
       "    </tr>\n",
       "    <tr>\n",
       "      <td>4</td>\n",
       "      <td>INC000000603180</td>\n",
       "      <td>User Service Restoration</td>\n",
       "      <td>2017-04-25 14:50:50</td>\n",
       "      <td>2019-07-18 19:49:29</td>\n",
       "      <td>Telefonica</td>\n",
       "      <td>2017-04-25 14:49:56</td>\n",
       "      <td>1000.0</td>\n",
       "      <td>Telefónica Venezuela (TELCEL)</td>\n",
       "      <td>Banco Bilbao Vizcaya Argentaria (BBVA)</td>\n",
       "      <td>NaN</td>\n",
       "      <td>...</td>\n",
       "      <td>MWAN - Performance</td>\n",
       "      <td>Slowness and/or Delays</td>\n",
       "      <td>NaN</td>\n",
       "      <td>NaN</td>\n",
       "      <td>NaN</td>\n",
       "      <td>NaN</td>\n",
       "      <td>0.0</td>\n",
       "      <td>Venezuela</td>\n",
       "      <td>20110621-SITEMPLS-0000320594</td>\n",
       "      <td>AGHAA5V0A57OPAOOYZWOA1J0YVFFPL</td>\n",
       "    </tr>\n",
       "  </tbody>\n",
       "</table>\n",
       "<p>5 rows × 29 columns</p>\n",
       "</div>"
      ],
      "text/plain": [
       "         TICKET_ID              SERVICE_TYPE          SUBMIT_DATE  \\\n",
       "0  INC000000581948  User Service Restoration  2017-03-15 22:45:03   \n",
       "1  INC000000581960  User Service Restoration  2017-03-15 23:28:23   \n",
       "2  INC000000582963  User Service Restoration  2017-03-18 01:13:21   \n",
       "3  INC000000582968  User Service Restoration  2017-03-18 01:29:38   \n",
       "4  INC000000603180  User Service Restoration  2017-04-25 14:50:50   \n",
       "\n",
       "  LAST_MODIFICATION_DATE       ASSIGNED_SUPPORT_COMPANY        REPORTED_DATE  \\\n",
       "0    2019-07-18 19:50:08                     Telefonica  2017-03-15 22:44:47   \n",
       "1    2019-07-18 19:51:05  Telefónica Venezuela (TELCEL)  2017-03-15 23:28:23   \n",
       "2    2019-07-18 19:50:08                     Telefonica  2017-03-18 01:06:56   \n",
       "3    2019-07-18 19:51:05  Telefónica Venezuela (TELCEL)  2017-03-18 01:29:38   \n",
       "4    2019-07-18 19:49:29                     Telefonica  2017-04-25 14:49:56   \n",
       "\n",
       "   REPORTED_SOURCE_ID         OPERATING_COMPANY_NAME  \\\n",
       "0              2000.0  Telefónica Venezuela (TELCEL)   \n",
       "1             15001.0  Telefónica Venezuela (TELCEL)   \n",
       "2              1000.0  Telefónica Venezuela (TELCEL)   \n",
       "3             15001.0  Telefónica Venezuela (TELCEL)   \n",
       "4              1000.0  Telefónica Venezuela (TELCEL)   \n",
       "\n",
       "                             OPERATING_LE  CONTACT_COMPANY_NAME  ...  \\\n",
       "0  Banco Bilbao Vizcaya Argentaria (BBVA)                   NaN  ...   \n",
       "1         TELCEL C.A. (TEL MOV VENEZUELA)                   NaN  ...   \n",
       "2  Banco Bilbao Vizcaya Argentaria (BBVA)                   NaN  ...   \n",
       "3         TELCEL C.A. (TEL MOV VENEZUELA)                   NaN  ...   \n",
       "4  Banco Bilbao Vizcaya Argentaria (BBVA)                   NaN  ...   \n",
       "\n",
       "  OPERATIONAL_CATEGORIZATION_TIER_2 OPERATIONAL_CATEGORIZATION_TIER_3  \\\n",
       "0                MWAN - Performance            Slowness and/or Delays   \n",
       "1                MWAN - Performance            Slowness and/or Delays   \n",
       "2                    MWAN - Failure                   Service Reports   \n",
       "3                    MWAN - Failure                   Service Reports   \n",
       "4                MWAN - Performance            Slowness and/or Delays   \n",
       "\n",
       "  CLOSURE_CATEGORIZATION_TIER_1 CLOSURE_CATEGORIZATION_TIER_2  \\\n",
       "0                      CUSTOMER                   Bad request   \n",
       "1                      CUSTOMER                   Bad request   \n",
       "2                      CUSTOMER                   Bad request   \n",
       "3                      CUSTOMER                   Bad request   \n",
       "4                           NaN                           NaN   \n",
       "\n",
       "  CLOSURE_CATEGORIZATION_TIER_3                   VENDOR_GROUP  \\\n",
       "0                           NaN  Telefónica Venezuela (TELCEL)   \n",
       "1                           NaN  Telefónica Venezuela (TELCEL)   \n",
       "2                           NaN  Telefónica Venezuela (TELCEL)   \n",
       "3                           NaN  Telefónica Venezuela (TELCEL)   \n",
       "4                           NaN                            NaN   \n",
       "\n",
       "  INF2_HPD_OUTAGE_DURATION CI_COUNTRY                  ADMIN_NUMBER  \\\n",
       "0                      2.0  Venezuela  20110621-SITEMPLS-0000320594   \n",
       "1                      2.0  Venezuela  20110621-SITEMPLS-0000320594   \n",
       "2                      1.0  Venezuela  20110621-SITEMPLS-0000320594   \n",
       "3                      1.0        NaN  20110621-SITEMPLS-0000320594   \n",
       "4                      0.0  Venezuela  20110621-SITEMPLS-0000320594   \n",
       "\n",
       "                       INSTANCEID  \n",
       "0  IDHAA5V0A57OPAOMVNZIBDAVKB2CW8  \n",
       "1  AGHAA5V0A57OPAOMVQ9JBEZWFY27IL  \n",
       "2  AGHAA5V0A57OPAOMZKQHEDMK9IF6NO  \n",
       "3  AGHAA5V0A57OPAOMZL72EEH87HFRC5  \n",
       "4  AGHAA5V0A57OPAOOYZWOA1J0YVFFPL  \n",
       "\n",
       "[5 rows x 29 columns]"
      ]
     },
     "execution_count": 3,
     "metadata": {},
     "output_type": "execute_result"
    }
   ],
   "source": [
    "incidents_filtered = pd.read_csv('../data/bbva_ven_data/incidenciasBBVA-Venezuela.csv')\n",
    "incidents_filtered.head() "
   ]
  },
  {
   "cell_type": "markdown",
   "metadata": {
    "deletable": true,
    "editable": true
   },
   "source": [
    "# Fase de entrenamiento"
   ]
  },
  {
   "cell_type": "markdown",
   "metadata": {
    "deletable": true,
    "editable": true
   },
   "source": [
    "Se seleccionan los meses de entrenamiento del modelo. Debido a que para que el funcionamiento del algoritmo sea el deseado, los datos de entrenamiento deben ser lo más \"normales\" posibles. Entendiéndose \"normal\" como libres de anomalías, en la medida de lo posible. Por ello se eliminan los 0 presentes en la serie:"
   ]
  },
  {
   "cell_type": "code",
   "execution_count": 15,
   "metadata": {
    "collapsed": true,
    "deletable": true,
    "editable": true
   },
   "outputs": [],
   "source": [
    "traffic_series = pd.Series(traffic_data.NU_TRAFFIC_OUTPUT.values, index = traffic_data.DT_MEASURE_DATETIME.values)\n",
    "train_data = traffic_series['2019-01-01 00:00:00':'2019-03-31 23:55:00']\n",
    "train_data = train_data[train_data != 0] "
   ]
  },
  {
   "cell_type": "code",
   "execution_count": 16,
   "metadata": {
    "collapsed": true,
    "deletable": true,
    "editable": true
   },
   "outputs": [],
   "source": [
    "num_trees = 50\n",
    "tree_size = 512\n",
    "train_index = train_data.index.values\n",
    "forest = []\n",
    "while len(forest) < num_trees:\n",
    "    samples = np.random.choice(train_index, size = (num_trees, tree_size), replace = True)\n",
    "    trees = [rrcf.RCTree(np.vstack(train_data.loc[sample].values), index_labels = sample) for sample in samples]\n",
    "    forest.extend(trees) "
   ]
  },
  {
   "cell_type": "markdown",
   "metadata": {
    "deletable": true,
    "editable": true
   },
   "source": [
    "# Fase de scoring"
   ]
  },
  {
   "cell_type": "markdown",
   "metadata": {
    "deletable": true,
    "editable": true
   },
   "source": [
    "Se seleccionan los datos que se desee *scorear*. Se simula un *scoreo* de los datos en *streaming* a través de un bucle *for*:"
   ]
  },
  {
   "cell_type": "code",
   "execution_count": 35,
   "metadata": {
    "collapsed": true,
    "deletable": true,
    "editable": true
   },
   "outputs": [],
   "source": [
    "test_data = traffic_series['2019-04-01 00:00:00':'2019-12-31 23:55:00']\n",
    "codisp_no_shingle = pd.Series(0, index = test_data.index.values)\n",
    "\n",
    "for next_index,next_point in test_data.items():\n",
    "    for tree in forest:\n",
    "        tree.insert_point(next_point, index=next_index)\n",
    "        codisp_no_shingle[next_index] += tree.codisp(next_index)\n",
    "        tree.forget_point(next_index)\n",
    "avg_codisp_no_shingle = codisp_no_shingle/num_trees "
   ]
  },
  {
   "cell_type": "markdown",
   "metadata": {
    "deletable": true,
    "editable": true
   },
   "source": [
    "El resultado devuelto es un vector de *anomaly scores*. Este vector es convertido a *dataframe* para poder ser guardado y utilizado posteriormente:"
   ]
  },
  {
   "cell_type": "code",
   "execution_count": 36,
   "metadata": {
    "collapsed": false,
    "deletable": true,
    "editable": true
   },
   "outputs": [
    {
     "data": {
      "text/html": [
       "<div>\n",
       "<style scoped>\n",
       "    .dataframe tbody tr th:only-of-type {\n",
       "        vertical-align: middle;\n",
       "    }\n",
       "\n",
       "    .dataframe tbody tr th {\n",
       "        vertical-align: top;\n",
       "    }\n",
       "\n",
       "    .dataframe thead th {\n",
       "        text-align: right;\n",
       "    }\n",
       "</style>\n",
       "<table border=\"1\" class=\"dataframe\">\n",
       "  <thead>\n",
       "    <tr style=\"text-align: right;\">\n",
       "      <th></th>\n",
       "      <th>Anomaly score</th>\n",
       "    </tr>\n",
       "  </thead>\n",
       "  <tbody>\n",
       "    <tr>\n",
       "      <td>count</td>\n",
       "      <td>79200.000000</td>\n",
       "    </tr>\n",
       "    <tr>\n",
       "      <td>mean</td>\n",
       "      <td>13.147790</td>\n",
       "    </tr>\n",
       "    <tr>\n",
       "      <td>std</td>\n",
       "      <td>25.978384</td>\n",
       "    </tr>\n",
       "    <tr>\n",
       "      <td>min</td>\n",
       "      <td>2.340000</td>\n",
       "    </tr>\n",
       "    <tr>\n",
       "      <td>25%</td>\n",
       "      <td>3.960000</td>\n",
       "    </tr>\n",
       "    <tr>\n",
       "      <td>50%</td>\n",
       "      <td>4.780000</td>\n",
       "    </tr>\n",
       "    <tr>\n",
       "      <td>75%</td>\n",
       "      <td>8.960000</td>\n",
       "    </tr>\n",
       "    <tr>\n",
       "      <td>max</td>\n",
       "      <td>206.240000</td>\n",
       "    </tr>\n",
       "  </tbody>\n",
       "</table>\n",
       "</div>"
      ],
      "text/plain": [
       "       Anomaly score\n",
       "count   79200.000000\n",
       "mean       13.147790\n",
       "std        25.978384\n",
       "min         2.340000\n",
       "25%         3.960000\n",
       "50%         4.780000\n",
       "75%         8.960000\n",
       "max       206.240000"
      ]
     },
     "execution_count": 36,
     "metadata": {},
     "output_type": "execute_result"
    }
   ],
   "source": [
    "avg_codisp_no_shingle.name = 'Anomaly score'\n",
    "avg_codisp_no_shingle = avg_codisp_no_shingle.to_frame()\n",
    "avg_codisp_no_shingle.reset_index(inplace=True)\n",
    "avg_codisp_no_shingle.rename(columns={'index':'Date'}, inplace=True)\n",
    "avg_codisp_no_shingle.describe()"
   ]
  },
  {
   "cell_type": "code",
   "execution_count": 37,
   "metadata": {
    "collapsed": false,
    "deletable": true,
    "editable": true
   },
   "outputs": [
    {
     "data": {
      "text/plain": [
       "(79200, 2)"
      ]
     },
     "execution_count": 37,
     "metadata": {},
     "output_type": "execute_result"
    }
   ],
   "source": [
    "avg_codisp_no_shingle.shape"
   ]
  },
  {
   "cell_type": "code",
   "execution_count": 38,
   "metadata": {
    "collapsed": true,
    "deletable": true,
    "editable": true
   },
   "outputs": [],
   "source": [
    "# Se puede guardar para su posterior uso\n",
    "# avg_codisp_no_shingle.to_csv('../data/bbva_ven_data/anomaly_score_abr_dic', index = False)"
   ]
  },
  {
   "cell_type": "markdown",
   "metadata": {
    "deletable": true,
    "editable": true
   },
   "source": [
    "# Selección de threshold estadístico"
   ]
  },
  {
   "cell_type": "code",
   "execution_count": 7,
   "metadata": {
    "collapsed": false
   },
   "outputs": [],
   "source": [
    "avg_codisp_no_shingle = pd.read_csv(\"../data/bbva_ven_data/anomaly_score_abr_dic.csv\")"
   ]
  },
  {
   "cell_type": "code",
   "execution_count": 8,
   "metadata": {
    "collapsed": false,
    "deletable": true,
    "editable": true
   },
   "outputs": [
    {
     "data": {
      "text/plain": [
       "<matplotlib.axes._subplots.AxesSubplot at 0x11917ac50>"
      ]
     },
     "execution_count": 8,
     "metadata": {},
     "output_type": "execute_result"
    },
    {
     "data": {
      "image/png": "[encoded data removed]",
      "text/plain": [
       "<Figure size 432x288 with 1 Axes>"
      ]
     },
     "metadata": {},
     "output_type": "display_data"
    }
   ],
   "source": [
    "sns.set_style(\"darkgrid\")\n",
    "ax = sns.distplot(np.log(avg_codisp_no_shingle['Anomaly score']), label = \"Anomaly Score\")\n",
    "ax"
   ]
  },
  {
   "cell_type": "code",
   "execution_count": 40,
   "metadata": {
    "collapsed": false,
    "deletable": true,
    "editable": true
   },
   "outputs": [
    {
     "data": {
      "text/plain": [
       "<matplotlib.axes._subplots.AxesSubplot at 0x1a2d7ab950>"
      ]
     },
     "execution_count": 40,
     "metadata": {},
     "output_type": "execute_result"
    },
    {
     "data": {
      "image/png": "[encoded data removed]",
      "text/plain": [
       "<Figure size 432x288 with 1 Axes>"
      ]
     },
     "metadata": {},
     "output_type": "display_data"
    }
   ],
   "source": [
    "sns.set_style(\"darkgrid\")\n",
    "ax = sns.distplot(avg_codisp_no_shingle['Anomaly score'], label = \"Anomaly Score\")\n",
    "ax"
   ]
  },
  {
   "cell_type": "code",
   "execution_count": 10,
   "metadata": {
    "collapsed": false,
    "deletable": true,
    "editable": true
   },
   "outputs": [
    {
     "data": {
      "text/plain": [
       "150.9605999999997"
      ]
     },
     "execution_count": 10,
     "metadata": {},
     "output_type": "execute_result"
    }
   ],
   "source": [
    "stat_threshold = avg_codisp_no_shingle[\"Anomaly score\"].quantile(.99)\n",
    "stat_threshold"
   ]
  },
  {
   "cell_type": "code",
   "execution_count": 12,
   "metadata": {
    "collapsed": false,
    "deletable": true,
    "editable": true
   },
   "outputs": [
    {
     "data": {
      "text/html": [
       "<div>\n",
       "<style scoped>\n",
       "    .dataframe tbody tr th:only-of-type {\n",
       "        vertical-align: middle;\n",
       "    }\n",
       "\n",
       "    .dataframe tbody tr th {\n",
       "        vertical-align: top;\n",
       "    }\n",
       "\n",
       "    .dataframe thead th {\n",
       "        text-align: right;\n",
       "    }\n",
       "</style>\n",
       "<table border=\"1\" class=\"dataframe\">\n",
       "  <thead>\n",
       "    <tr style=\"text-align: right;\">\n",
       "      <th></th>\n",
       "      <th>Date</th>\n",
       "      <th>Anomaly score</th>\n",
       "      <th>NU_TRAFFIC_INPUT</th>\n",
       "      <th>NU_TRAFFIC_OUTPUT</th>\n",
       "    </tr>\n",
       "  </thead>\n",
       "  <tbody>\n",
       "    <tr>\n",
       "      <th>0</th>\n",
       "      <td>2019-04-01 19:50:00</td>\n",
       "      <td>172.36</td>\n",
       "      <td>0.0</td>\n",
       "      <td>0.0</td>\n",
       "    </tr>\n",
       "    <tr>\n",
       "      <th>1</th>\n",
       "      <td>2019-04-09 19:10:00</td>\n",
       "      <td>181.12</td>\n",
       "      <td>0.0</td>\n",
       "      <td>0.0</td>\n",
       "    </tr>\n",
       "    <tr>\n",
       "      <th>2</th>\n",
       "      <td>2019-04-16 21:00:00</td>\n",
       "      <td>174.82</td>\n",
       "      <td>0.0</td>\n",
       "      <td>0.0</td>\n",
       "    </tr>\n",
       "    <tr>\n",
       "      <th>3</th>\n",
       "      <td>2019-04-23 19:20:00</td>\n",
       "      <td>173.78</td>\n",
       "      <td>0.0</td>\n",
       "      <td>0.0</td>\n",
       "    </tr>\n",
       "    <tr>\n",
       "      <th>4</th>\n",
       "      <td>2019-04-28 01:55:00</td>\n",
       "      <td>172.98</td>\n",
       "      <td>0.0</td>\n",
       "      <td>0.0</td>\n",
       "    </tr>\n",
       "  </tbody>\n",
       "</table>\n",
       "</div>"
      ],
      "text/plain": [
       "                  Date  Anomaly score  NU_TRAFFIC_INPUT  NU_TRAFFIC_OUTPUT\n",
       "0  2019-04-01 19:50:00         172.36               0.0                0.0\n",
       "1  2019-04-09 19:10:00         181.12               0.0                0.0\n",
       "2  2019-04-16 21:00:00         174.82               0.0                0.0\n",
       "3  2019-04-23 19:20:00         173.78               0.0                0.0\n",
       "4  2019-04-28 01:55:00         172.98               0.0                0.0"
      ]
     },
     "execution_count": 12,
     "metadata": {},
     "output_type": "execute_result"
    }
   ],
   "source": [
    "avg_codisp_no_shingle['Alarm'] = 0.0\n",
    "avg_codisp_no_shingle.loc[(avg_codisp_no_shingle['Anomaly score'] > stat_threshold), 'Alarm'] = 1.0\n",
    "alarms = avg_codisp_no_shingle.loc[(avg_codisp_no_shingle['Alarm'] == 1.0)]\n",
    "alarms = alarms.merge(traffic_data, how = 'inner', left_on = 'Date', right_on = 'DT_MEASURE_DATETIME')\n",
    "alarms = alarms[[\"Date\", \"Anomaly score\", \"NU_TRAFFIC_INPUT\", \"NU_TRAFFIC_OUTPUT\"]]\n",
    "alarms.head()"
   ]
  },
  {
   "cell_type": "code",
   "execution_count": 13,
   "metadata": {
    "collapsed": false,
    "deletable": true,
    "editable": true
   },
   "outputs": [
    {
     "data": {
      "text/plain": [
       "(792, 4)"
      ]
     },
     "execution_count": 13,
     "metadata": {},
     "output_type": "execute_result"
    }
   ],
   "source": [
    "alarms.shape"
   ]
  },
  {
   "cell_type": "code",
   "execution_count": 48,
   "metadata": {
    "collapsed": true,
    "deletable": true,
    "editable": true
   },
   "outputs": [],
   "source": [
    "#alarms.to_csv(\"../data/bbva_ven_data/alarms_statistical_threshold.csv\", index = False)"
   ]
  },
  {
   "cell_type": "code",
   "execution_count": 18,
   "metadata": {
    "collapsed": false,
    "deletable": true,
    "editable": true
   },
   "outputs": [],
   "source": [
    "# Creamos un archivo json donde guardamos los thresholds y el forest utilizado\n",
    "forest_dict = forest_to_dict(forest) \n",
    "forest_dict[\"statistic_threshold\"] = stat_threshold\n",
    "with open('../data/bbva_ven_data/320594_GigabitEthernet01_output.json', 'w') as output_file:\n",
    "    json.dump(forest_dict, output_file)"
   ]
  },
  {
   "cell_type": "code",
   "execution_count": null,
   "metadata": {
    "collapsed": true
   },
   "outputs": [],
   "source": []
  }
 ],
 "metadata": {
  "kernelspec": {
   "display_name": "Python 2",
   "language": "python",
   "name": "python2"
  },
  "language_info": {
   "codemirror_mode": {
    "name": "ipython",
    "version": 2
   },
   "file_extension": ".py",
   "mimetype": "text/x-python",
   "name": "python",
   "nbconvert_exporter": "python",
   "pygments_lexer": "ipython2",
   "version": "2.7.16"
  },
  "toc": {
   "base_numbering": 1,
   "nav_menu": {},
   "number_sections": true,
   "sideBar": true,
   "skip_h1_title": false,
   "title_cell": "Table of Contents",
   "title_sidebar": "Contents",
   "toc_cell": false,
   "toc_position": {},
   "toc_section_display": true,
   "toc_window_display": false
  }
 },
 "nbformat": 4,
 "nbformat_minor": 4
}

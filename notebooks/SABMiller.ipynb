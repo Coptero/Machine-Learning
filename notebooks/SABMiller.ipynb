{
 "cells": [
  {
   "cell_type": "code",
   "execution_count": 1,
   "metadata": {
    "collapsed": false
   },
   "outputs": [],
   "source": [
    "import pandas as pd\n",
    "import rrcf\n",
    "import datetime\n",
    "import numpy as np\n",
    "import sys \n",
    "#sys.path.append('..')\n",
    "#sys.path.insert(0, '')\n",
    "from helpers import nearest_after, optimal_fbeta, calculate_metrics, forest_to_dict\n",
    "import seaborn as sns\n",
    "import json"
   ]
  },
  {
   "cell_type": "markdown",
   "metadata": {},
   "source": [
    "# Carga de datos"
   ]
  },
  {
   "cell_type": "code",
   "execution_count": 3,
   "metadata": {
    "collapsed": false
   },
   "outputs": [
    {
     "data": {
      "text/html": [
       "<div>\n",
       "<style scoped>\n",
       "    .dataframe tbody tr th:only-of-type {\n",
       "        vertical-align: middle;\n",
       "    }\n",
       "\n",
       "    .dataframe tbody tr th {\n",
       "        vertical-align: top;\n",
       "    }\n",
       "\n",
       "    .dataframe thead th {\n",
       "        text-align: right;\n",
       "    }\n",
       "</style>\n",
       "<table border=\"1\" class=\"dataframe\">\n",
       "  <thead>\n",
       "    <tr style=\"text-align: right;\">\n",
       "      <th></th>\n",
       "      <th>SC_ROUTER</th>\n",
       "      <th>DE_INTERFACE</th>\n",
       "      <th>NU_SPEED</th>\n",
       "      <th>NU_TRAFFIC_INPUT</th>\n",
       "      <th>NU_TRAFFIC_OUTPUT</th>\n",
       "      <th>DT_MEASURE_DATETIME</th>\n",
       "      <th>SC_INTERFACE_TYPE</th>\n",
       "      <th>DE_CUSTOMER_NAME</th>\n",
       "      <th>SD_ADMINISTRATIVE_NUMBER</th>\n",
       "    </tr>\n",
       "  </thead>\n",
       "  <tbody>\n",
       "    <tr>\n",
       "      <th>0</th>\n",
       "      <td>SABM-COL-BAQ-MW-M-386781</td>\n",
       "      <td>GigabitEthernet0/0</td>\n",
       "      <td>26402000</td>\n",
       "      <td>8.716002</td>\n",
       "      <td>2.727267</td>\n",
       "      <td>2018-02-01 15:05:00</td>\n",
       "      <td>WAN</td>\n",
       "      <td>SABM</td>\n",
       "      <td>386781</td>\n",
       "    </tr>\n",
       "    <tr>\n",
       "      <th>1</th>\n",
       "      <td>SABM-COL-BAQ-MW-M-386781</td>\n",
       "      <td>GigabitEthernet0/0</td>\n",
       "      <td>26402000</td>\n",
       "      <td>8.962334</td>\n",
       "      <td>2.200488</td>\n",
       "      <td>2018-02-01 15:10:00</td>\n",
       "      <td>WAN</td>\n",
       "      <td>SABM</td>\n",
       "      <td>386781</td>\n",
       "    </tr>\n",
       "    <tr>\n",
       "      <th>2</th>\n",
       "      <td>SABM-COL-BAQ-MW-M-386781</td>\n",
       "      <td>GigabitEthernet0/0</td>\n",
       "      <td>26402000</td>\n",
       "      <td>7.607139</td>\n",
       "      <td>2.258869</td>\n",
       "      <td>2018-02-01 15:15:00</td>\n",
       "      <td>WAN</td>\n",
       "      <td>SABM</td>\n",
       "      <td>386781</td>\n",
       "    </tr>\n",
       "    <tr>\n",
       "      <th>3</th>\n",
       "      <td>SABM-COL-BAQ-MW-M-386781</td>\n",
       "      <td>GigabitEthernet0/0</td>\n",
       "      <td>26402000</td>\n",
       "      <td>8.079257</td>\n",
       "      <td>4.980340</td>\n",
       "      <td>2018-02-01 15:20:00</td>\n",
       "      <td>WAN</td>\n",
       "      <td>SABM</td>\n",
       "      <td>386781</td>\n",
       "    </tr>\n",
       "    <tr>\n",
       "      <th>4</th>\n",
       "      <td>SABM-COL-BAQ-MW-M-386781</td>\n",
       "      <td>GigabitEthernet0/0</td>\n",
       "      <td>26402000</td>\n",
       "      <td>9.069742</td>\n",
       "      <td>9.456425</td>\n",
       "      <td>2018-02-01 15:25:00</td>\n",
       "      <td>WAN</td>\n",
       "      <td>SABM</td>\n",
       "      <td>386781</td>\n",
       "    </tr>\n",
       "  </tbody>\n",
       "</table>\n",
       "</div>"
      ],
      "text/plain": [
       "                  SC_ROUTER        DE_INTERFACE  NU_SPEED  NU_TRAFFIC_INPUT  \\\n",
       "0  SABM-COL-BAQ-MW-M-386781  GigabitEthernet0/0  26402000          8.716002   \n",
       "1  SABM-COL-BAQ-MW-M-386781  GigabitEthernet0/0  26402000          8.962334   \n",
       "2  SABM-COL-BAQ-MW-M-386781  GigabitEthernet0/0  26402000          7.607139   \n",
       "3  SABM-COL-BAQ-MW-M-386781  GigabitEthernet0/0  26402000          8.079257   \n",
       "4  SABM-COL-BAQ-MW-M-386781  GigabitEthernet0/0  26402000          9.069742   \n",
       "\n",
       "   NU_TRAFFIC_OUTPUT  DT_MEASURE_DATETIME SC_INTERFACE_TYPE DE_CUSTOMER_NAME  \\\n",
       "0           2.727267  2018-02-01 15:05:00               WAN             SABM   \n",
       "1           2.200488  2018-02-01 15:10:00               WAN             SABM   \n",
       "2           2.258869  2018-02-01 15:15:00               WAN             SABM   \n",
       "3           4.980340  2018-02-01 15:20:00               WAN             SABM   \n",
       "4           9.456425  2018-02-01 15:25:00               WAN             SABM   \n",
       "\n",
       "   SD_ADMINISTRATIVE_NUMBER  \n",
       "0                    386781  \n",
       "1                    386781  \n",
       "2                    386781  \n",
       "3                    386781  \n",
       "4                    386781  "
      ]
     },
     "execution_count": 3,
     "metadata": {},
     "output_type": "execute_result"
    }
   ],
   "source": [
    "traffic_data = pd.read_csv('../data/sabmiller_data/SABM-COL-BAQ-MW-M-386781mod.csv')\n",
    "traffic_data.head()"
   ]
  },
  {
   "cell_type": "code",
   "execution_count": 4,
   "metadata": {
    "collapsed": false
   },
   "outputs": [
    {
     "data": {
      "text/plain": [
       "(218411, 9)"
      ]
     },
     "execution_count": 4,
     "metadata": {},
     "output_type": "execute_result"
    }
   ],
   "source": [
    "traffic_data = traffic_data.loc[traffic_data.DE_INTERFACE  == \"GigabitEthernet0/0\"]\n",
    "traffic_data.shape"
   ]
  },
  {
   "cell_type": "code",
   "execution_count": 5,
   "metadata": {
    "collapsed": false
   },
   "outputs": [
    {
     "data": {
      "text/html": [
       "<div>\n",
       "<style scoped>\n",
       "    .dataframe tbody tr th:only-of-type {\n",
       "        vertical-align: middle;\n",
       "    }\n",
       "\n",
       "    .dataframe tbody tr th {\n",
       "        vertical-align: top;\n",
       "    }\n",
       "\n",
       "    .dataframe thead th {\n",
       "        text-align: right;\n",
       "    }\n",
       "</style>\n",
       "<table border=\"1\" class=\"dataframe\">\n",
       "  <thead>\n",
       "    <tr style=\"text-align: right;\">\n",
       "      <th></th>\n",
       "      <th>TICKET_ID</th>\n",
       "      <th>SUBMIT_DATE</th>\n",
       "      <th>CLOSED_DATE</th>\n",
       "      <th>LAST_RESOLVED_DATE</th>\n",
       "      <th>SERVICE_TYPE</th>\n",
       "      <th>REPORTED_SOURCE_ID</th>\n",
       "      <th>PORTAL_TICKET_ID</th>\n",
       "      <th>SIGMA_TICKET_ID</th>\n",
       "      <th>SUBMITTER</th>\n",
       "      <th>LAST_MODIFICATION_DATE</th>\n",
       "      <th>...</th>\n",
       "      <th>BMC_TICKET_PENDING_DATE</th>\n",
       "      <th>INF2_HPD_OUTAGE_DURATION</th>\n",
       "      <th>REASON_OUTAGE</th>\n",
       "      <th>RFO_AVAILABLE</th>\n",
       "      <th>CI_NAME</th>\n",
       "      <th>CI_COUNTRY</th>\n",
       "      <th>CI_CITY</th>\n",
       "      <th>CI_ID_FAST</th>\n",
       "      <th>ADMIN_NUMBER</th>\n",
       "      <th>INSTANCEID</th>\n",
       "    </tr>\n",
       "  </thead>\n",
       "  <tbody>\n",
       "    <tr>\n",
       "      <th>0</th>\n",
       "      <td>INC000000562210</td>\n",
       "      <td>2017-01-26 20:19:00</td>\n",
       "      <td>2017-01-27 20:15:00</td>\n",
       "      <td>2017-01-27 20:15:00</td>\n",
       "      <td>User Service Restoration</td>\n",
       "      <td>Direct Input</td>\n",
       "      <td>NaN</td>\n",
       "      <td>NaN</td>\n",
       "      <td>80244050</td>\n",
       "      <td>20190718190246</td>\n",
       "      <td>...</td>\n",
       "      <td>2.017013e+13</td>\n",
       "      <td>0</td>\n",
       "      <td>NaN</td>\n",
       "      <td>N</td>\n",
       "      <td>20140416-SITEMPLS-0000386781</td>\n",
       "      <td>Colombia</td>\n",
       "      <td>Barranquilla</td>\n",
       "      <td>NaN</td>\n",
       "      <td>20140416-SITEMPLS-0000386781</td>\n",
       "      <td>AGHAA5V0A57OPAOK49A9IQGQQWWWCC</td>\n",
       "    </tr>\n",
       "    <tr>\n",
       "      <th>1</th>\n",
       "      <td>INC000000564687</td>\n",
       "      <td>2017-02-02 17:07:00</td>\n",
       "      <td>2017-02-03 10:57:00</td>\n",
       "      <td>2017-02-02 20:44:00</td>\n",
       "      <td>User Service Restoration</td>\n",
       "      <td>Direct Input</td>\n",
       "      <td>NaN</td>\n",
       "      <td>NaN</td>\n",
       "      <td>80164415</td>\n",
       "      <td>20190718190246</td>\n",
       "      <td>...</td>\n",
       "      <td>NaN</td>\n",
       "      <td>0</td>\n",
       "      <td>REINICIO DE EQUIPO DE UK</td>\n",
       "      <td>N</td>\n",
       "      <td>20140416-SITEMPLS-0000386781</td>\n",
       "      <td>Colombia</td>\n",
       "      <td>Barranquilla</td>\n",
       "      <td>NaN</td>\n",
       "      <td>20140416-SITEMPLS-0000386781</td>\n",
       "      <td>AGHAA5V0A57O9AOKRISH8M8MMTDEQM</td>\n",
       "    </tr>\n",
       "    <tr>\n",
       "      <th>2</th>\n",
       "      <td>INC000000588712</td>\n",
       "      <td>2017-03-28 18:36:00</td>\n",
       "      <td>2017-03-29 17:35:00</td>\n",
       "      <td>2017-03-29 06:18:00</td>\n",
       "      <td>User Service Restoration</td>\n",
       "      <td>Direct Input</td>\n",
       "      <td>NaN</td>\n",
       "      <td>NaN</td>\n",
       "      <td>80244050</td>\n",
       "      <td>20190718190246</td>\n",
       "      <td>...</td>\n",
       "      <td>2.017033e+13</td>\n",
       "      <td>0</td>\n",
       "      <td>Se presentó falla en equipo Core RN-BQA-DEL Ju...</td>\n",
       "      <td>N</td>\n",
       "      <td>20140416-SITEMPLS-0000386781</td>\n",
       "      <td>Colombia</td>\n",
       "      <td>Barranquilla</td>\n",
       "      <td>NaN</td>\n",
       "      <td>20140416-SITEMPLS-0000386781</td>\n",
       "      <td>AGHAA5V0A57OPAON90EKDRSQ7BTJRN</td>\n",
       "    </tr>\n",
       "    <tr>\n",
       "      <th>3</th>\n",
       "      <td>INC000000655192</td>\n",
       "      <td>2017-07-06 17:34:00</td>\n",
       "      <td>2017-07-06 21:26:00</td>\n",
       "      <td>2017-07-06 21:06:00</td>\n",
       "      <td>User Service Restoration</td>\n",
       "      <td>Direct Input</td>\n",
       "      <td>NaN</td>\n",
       "      <td>NaN</td>\n",
       "      <td>80244050</td>\n",
       "      <td>20190718190246</td>\n",
       "      <td>...</td>\n",
       "      <td>NaN</td>\n",
       "      <td>180</td>\n",
       "      <td>Corte de Fibra OT 3526679.</td>\n",
       "      <td>N</td>\n",
       "      <td>20140416-SITEMPLS-0000386781</td>\n",
       "      <td>Colombia</td>\n",
       "      <td>Barranquilla</td>\n",
       "      <td>NaN</td>\n",
       "      <td>20140416-SITEMPLS-0000386781</td>\n",
       "      <td>AGHAA5V0A57OPAOSO3YJCYBKQOTQG9</td>\n",
       "    </tr>\n",
       "    <tr>\n",
       "      <th>4</th>\n",
       "      <td>INC000000713348</td>\n",
       "      <td>2017-09-20 21:43:00</td>\n",
       "      <td>2017-09-20 21:56:00</td>\n",
       "      <td>2017-09-20 21:56:00</td>\n",
       "      <td>User Service Restoration</td>\n",
       "      <td>Direct Input</td>\n",
       "      <td>NaN</td>\n",
       "      <td>NaN</td>\n",
       "      <td>mncsd.cnavm02</td>\n",
       "      <td>20190311081341</td>\n",
       "      <td>...</td>\n",
       "      <td>NaN</td>\n",
       "      <td>0</td>\n",
       "      <td>NaN</td>\n",
       "      <td>N</td>\n",
       "      <td>20140416-SITEMPLS-0000386781</td>\n",
       "      <td>Colombia</td>\n",
       "      <td>Barranquilla</td>\n",
       "      <td>NaN</td>\n",
       "      <td>20140416-SITEMPLS-0000386781</td>\n",
       "      <td>AGHAA5V0A57O9AOWL6DXAS8XV2V0KE</td>\n",
       "    </tr>\n",
       "  </tbody>\n",
       "</table>\n",
       "<p>5 rows × 57 columns</p>\n",
       "</div>"
      ],
      "text/plain": [
       "         TICKET_ID          SUBMIT_DATE          CLOSED_DATE  \\\n",
       "0  INC000000562210  2017-01-26 20:19:00  2017-01-27 20:15:00   \n",
       "1  INC000000564687  2017-02-02 17:07:00  2017-02-03 10:57:00   \n",
       "2  INC000000588712  2017-03-28 18:36:00  2017-03-29 17:35:00   \n",
       "3  INC000000655192  2017-07-06 17:34:00  2017-07-06 21:26:00   \n",
       "4  INC000000713348  2017-09-20 21:43:00  2017-09-20 21:56:00   \n",
       "\n",
       "    LAST_RESOLVED_DATE              SERVICE_TYPE REPORTED_SOURCE_ID  \\\n",
       "0  2017-01-27 20:15:00  User Service Restoration       Direct Input   \n",
       "1  2017-02-02 20:44:00  User Service Restoration       Direct Input   \n",
       "2  2017-03-29 06:18:00  User Service Restoration       Direct Input   \n",
       "3  2017-07-06 21:06:00  User Service Restoration       Direct Input   \n",
       "4  2017-09-20 21:56:00  User Service Restoration       Direct Input   \n",
       "\n",
       "   PORTAL_TICKET_ID  SIGMA_TICKET_ID      SUBMITTER  LAST_MODIFICATION_DATE  \\\n",
       "0               NaN              NaN       80244050          20190718190246   \n",
       "1               NaN              NaN       80164415          20190718190246   \n",
       "2               NaN              NaN       80244050          20190718190246   \n",
       "3               NaN              NaN       80244050          20190718190246   \n",
       "4               NaN              NaN  mncsd.cnavm02          20190311081341   \n",
       "\n",
       "   ...  BMC_TICKET_PENDING_DATE  INF2_HPD_OUTAGE_DURATION  \\\n",
       "0  ...             2.017013e+13                         0   \n",
       "1  ...                      NaN                         0   \n",
       "2  ...             2.017033e+13                         0   \n",
       "3  ...                      NaN                       180   \n",
       "4  ...                      NaN                         0   \n",
       "\n",
       "                                       REASON_OUTAGE RFO_AVAILABLE  \\\n",
       "0                                                NaN             N   \n",
       "1                           REINICIO DE EQUIPO DE UK             N   \n",
       "2  Se presentó falla en equipo Core RN-BQA-DEL Ju...             N   \n",
       "3                         Corte de Fibra OT 3526679.             N   \n",
       "4                                                NaN             N   \n",
       "\n",
       "                        CI_NAME  CI_COUNTRY       CI_CITY  CI_ID_FAST  \\\n",
       "0  20140416-SITEMPLS-0000386781    Colombia  Barranquilla         NaN   \n",
       "1  20140416-SITEMPLS-0000386781    Colombia  Barranquilla         NaN   \n",
       "2  20140416-SITEMPLS-0000386781    Colombia  Barranquilla         NaN   \n",
       "3  20140416-SITEMPLS-0000386781    Colombia  Barranquilla         NaN   \n",
       "4  20140416-SITEMPLS-0000386781    Colombia  Barranquilla         NaN   \n",
       "\n",
       "                   ADMIN_NUMBER                      INSTANCEID  \n",
       "0  20140416-SITEMPLS-0000386781  AGHAA5V0A57OPAOK49A9IQGQQWWWCC  \n",
       "1  20140416-SITEMPLS-0000386781  AGHAA5V0A57O9AOKRISH8M8MMTDEQM  \n",
       "2  20140416-SITEMPLS-0000386781  AGHAA5V0A57OPAON90EKDRSQ7BTJRN  \n",
       "3  20140416-SITEMPLS-0000386781  AGHAA5V0A57OPAOSO3YJCYBKQOTQG9  \n",
       "4  20140416-SITEMPLS-0000386781  AGHAA5V0A57O9AOWL6DXAS8XV2V0KE  \n",
       "\n",
       "[5 rows x 57 columns]"
      ]
     },
     "execution_count": 5,
     "metadata": {},
     "output_type": "execute_result"
    }
   ],
   "source": [
    "incidents_filtered = pd.read_csv(\"../data/sabmiller_data/incidenciasSABM.csv\")\n",
    "incidents_filtered.head()"
   ]
  },
  {
   "cell_type": "markdown",
   "metadata": {},
   "source": [
    "# Fase de entrenamiento "
   ]
  },
  {
   "cell_type": "code",
   "execution_count": 36,
   "metadata": {
    "collapsed": true
   },
   "outputs": [],
   "source": [
    "traffic_series = pd.Series(traffic_data.NU_TRAFFIC_INPUT.values, index = traffic_data.DT_MEASURE_DATETIME.values)\n",
    "train_data = traffic_series['2018-10-01 00:00:00':'2018-12-31 23:55:00']\n",
    "train_data = train_data[train_data != 0] "
   ]
  },
  {
   "cell_type": "code",
   "execution_count": 37,
   "metadata": {
    "collapsed": true
   },
   "outputs": [],
   "source": [
    "num_trees = 50\n",
    "tree_size = 512\n",
    "train_index = train_data.index.values\n",
    "forest = []\n",
    "while len(forest) < num_trees:\n",
    "    samples = np.random.choice(train_index, size = (num_trees, tree_size), replace = True)\n",
    "    trees = [rrcf.RCTree(np.vstack(train_data.loc[sample].values), index_labels = sample) for sample in samples]\n",
    "    forest.extend(trees) "
   ]
  },
  {
   "cell_type": "markdown",
   "metadata": {},
   "source": [
    "# Fase de scoring"
   ]
  },
  {
   "cell_type": "code",
   "execution_count": null,
   "metadata": {
    "collapsed": true
   },
   "outputs": [],
   "source": [
    "test_data = traffic_series['2019-01-01 00:00:00':'2019-07-31 23:55:00']\n",
    "codisp_no_shingle = pd.Series(0, index = test_data.index.values)\n",
    "\n",
    "for next_index,next_point in test_data.items():\n",
    "    for tree in forest:\n",
    "        tree.insert_point(next_point, index=next_index)\n",
    "        codisp_no_shingle[next_index] += tree.codisp(next_index)\n",
    "        tree.forget_point(next_index)\n",
    "avg_codisp_no_shingle = codisp_no_shingle/num_trees "
   ]
  },
  {
   "cell_type": "code",
   "execution_count": null,
   "metadata": {
    "collapsed": true
   },
   "outputs": [],
   "source": [
    "avg_codisp_no_shingle.name = 'Anomaly score'\n",
    "avg_codisp_no_shingle = avg_codisp_no_shingle.to_frame()\n",
    "avg_codisp_no_shingle.reset_index(inplace=True)\n",
    "avg_codisp_no_shingle.rename(columns={'index':'Date'}, inplace=True)\n",
    "avg_codisp_no_shingle.describe()"
   ]
  },
  {
   "cell_type": "code",
   "execution_count": null,
   "metadata": {
    "collapsed": true
   },
   "outputs": [],
   "source": [
    "# Se puede guardar para su posterior uso\n",
    "#avg_codisp_no_shingle.to_csv('../data/sabmiller_data/sabm_anomaly_score_ene_jul.csv', index = False)"
   ]
  },
  {
   "cell_type": "markdown",
   "metadata": {},
   "source": [
    "# Fase de optimización del threshold"
   ]
  },
  {
   "cell_type": "code",
   "execution_count": 6,
   "metadata": {
    "collapsed": true
   },
   "outputs": [],
   "source": [
    "# Se podrían cargar desde un fichero las anomaly_scores necesarias\n",
    "avg_codisp_no_shingle = pd.read_csv('../data/sabmiller_data/sabm_anomaly_score_ene_jul.csv')"
   ]
  },
  {
   "cell_type": "code",
   "execution_count": 7,
   "metadata": {
    "collapsed": true
   },
   "outputs": [],
   "source": [
    "# Nos quedamos con las fechas de test y transformamos a tipo datetime\n",
    "traffic_data_test = traffic_data[(traffic_data['DT_MEASURE_DATETIME'] >= '2019-01-01 00:00:00') & (traffic_data['DT_MEASURE_DATETIME'] <= '2019-07-31 23:55:00')].copy()\n",
    "traffic_dates_test = traffic_data_test.DT_MEASURE_DATETIME.values\n",
    "traffic_dates_test = [datetime.datetime.strptime(date, '%Y-%m-%d %H:%M:%S') for date in traffic_dates_test]\n",
    "\n",
    "incidents_filtered.sort_values(by = 'SUBMIT_DATE', inplace = True)\n",
    "submit_dates_test = list(filter(lambda x: (str(x) > '2019-01-01 00:00:00' and str(x) < '2019-07-31 23:55:00'), incidents_filtered.SUBMIT_DATE.values))\n",
    "resolved_dates_test = list(filter(lambda x: (str(x) > '2019-01-01 00:00:00' and str(x) < '2019-07-31 23:55:00'), incidents_filtered.LAST_RESOLVED_DATE.values))\n",
    "\n",
    "mapped_submit_dates = [nearest_after(traffic_dates_test, submit_date) for submit_date in submit_dates_test]\n",
    "mapped_resolved_dates = [nearest_after(traffic_dates_test, resolved_date) for resolved_date in resolved_dates_test]\n",
    "\n",
    "# Existen incidencias que se mapean al mismo instante. Las mapeamos manualmente al instante anterior también y eliminamos duplicados\n",
    "# También hay dos incidencias que se referían a fallos en la red local. Las descartamos. \n",
    "mapped_submit_dates.append('2019-01-07 04:00:00')\n",
    "mapped_submit_dates.append('2019-02-13 10:25:00')\n",
    "mapped_submit_dates.remove('2019-02-07 08:45:00')\n",
    "mapped_submit_dates.remove('2019-05-16 16:55:00')\n",
    "mapped_submit_dates = list(set(mapped_submit_dates))\n",
    "mapped_submit_dates = sorted(mapped_submit_dates)\n",
    "\n",
    "# Eliminamos también las fechas de resolución de las incidencias descartadas anteriormente. \n",
    "mapped_resolved_dates.remove('2019-02-07 09:00:00')\n",
    "mapped_resolved_dates.remove('2019-05-16 16:55:00')\n",
    "\n",
    "# Se calculan las diferencias entre submit_dates y last_resolved_dates\n",
    "differences_resolved_submit = [np.ceil((datetime.datetime.strptime(mapped_resolved_dates[i], '%Y-%m-%d %H:%M:%S') - datetime.datetime.strptime(mapped_submit_dates[i], '%Y-%m-%d %H:%M:%S')).total_seconds()/60/5) for i in range(len(mapped_resolved_dates))] # Diferencia en nº de intervalos de 5 min.\n",
    "\n",
    "traffic_data_test['INCIDENT'] = 0.0\n",
    "traffic_data_test.loc[traffic_data['DT_MEASURE_DATETIME'].isin(mapped_submit_dates), 'INCIDENT'] = 1.0\n",
    "incidents = traffic_data_test.INCIDENT.values\n",
    "\n",
    "anomaly_scores_50 = avg_codisp_no_shingle['Anomaly score'].values"
   ]
  },
  {
   "cell_type": "code",
   "execution_count": 28,
   "metadata": {
    "collapsed": false
   },
   "outputs": [],
   "source": [
    "prev_points = 2\n",
    "initial_threshold = 0\n",
    "last_threshold = 250\n",
    "beta_value = 2\n",
    "num_incidents = len(mapped_submit_dates)\n",
    "\n",
    "best_threshold = optimal_fbeta(anomaly_scores_50, incidents, prev_points, differences_resolved_submit, initial_threshold, last_threshold, beta_value, num_incidents)\n",
    "fp, fn, tp, recall, precision, f2_score = calculate_metrics(anomaly_scores_50, incidents, prev_points, best_threshold, differences_resolved_submit, beta_value, num_incidents)"
   ]
  },
  {
   "cell_type": "code",
   "execution_count": 29,
   "metadata": {
    "collapsed": false
   },
   "outputs": [
    {
     "name": "stdout",
     "output_type": "stream",
     "text": [
      "El threshold óptimo es: 154.0\n",
      "El número de alarmas es: 32\n",
      "El número incidencias no captadas es: 14\n",
      "El número de incidencias captadas es: 1\n",
      "La precisión es 0.030303030303 y el recall 0.0666666666667\n",
      "La f2_score alcanzada es: 0.0537634408602\n"
     ]
    }
   ],
   "source": [
    "print('El threshold óptimo es: {}'.format(best_threshold))\n",
    "print('El número de alarmas es: {}'.format(fp))\n",
    "print('El número incidencias no captadas es: {}'.format(fn))\n",
    "print('El número de incidencias captadas es: {}'.format(tp))\n",
    "print('La precisión es {} y el recall {}'.format(precision, recall))\n",
    "print('La f2_score alcanzada es: {}'.format(f2_score))"
   ]
  },
  {
   "cell_type": "markdown",
   "metadata": {},
   "source": [
    "En el caso de SABMiller ocurría que había un desfase de 2 horas aproximadamente entre las anomalías en el tráfico y el registro de las incidencias. Para conseguir unos resultados coherentes, se hace necesario ampliar el intervalo previo de contabilización de true positives:"
   ]
  },
  {
   "cell_type": "code",
   "execution_count": 30,
   "metadata": {
    "collapsed": true
   },
   "outputs": [],
   "source": [
    "prev_points = 24\n",
    "initial_threshold = 0\n",
    "last_threshold = 250\n",
    "beta_value = 2\n",
    "num_incidents = len(mapped_submit_dates)\n",
    "\n",
    "best_threshold = optimal_fbeta(anomaly_scores_50, incidents, prev_points, differences_resolved_submit, initial_threshold, last_threshold, beta_value, num_incidents)\n",
    "fp, fn, tp, recall, precision, f2_score = calculate_metrics(anomaly_scores_50, incidents, prev_points, best_threshold, differences_resolved_submit, beta_value, num_incidents)"
   ]
  },
  {
   "cell_type": "code",
   "execution_count": 31,
   "metadata": {
    "collapsed": false
   },
   "outputs": [
    {
     "name": "stdout",
     "output_type": "stream",
     "text": [
      "El threshold óptimo es: 142.0\n",
      "El número de alarmas es: 110\n",
      "El número incidencias no captadas es: 6\n",
      "El número de incidencias captadas es: 9\n",
      "La precisión es 0.0756302521008 y el recall 0.6\n",
      "La f2_score alcanzada es: 0.251396648045\n"
     ]
    }
   ],
   "source": [
    "print('El threshold óptimo es: {}'.format(best_threshold))\n",
    "print('El número de alarmas es: {}'.format(fp))\n",
    "print('El número incidencias no captadas es: {}'.format(fn))\n",
    "print('El número de incidencias captadas es: {}'.format(tp))\n",
    "print('La precisión es {} y el recall {}'.format(precision, recall))\n",
    "print('La f2_score alcanzada es: {}'.format(f2_score))"
   ]
  },
  {
   "cell_type": "markdown",
   "metadata": {},
   "source": [
    "# Threshold estadístico"
   ]
  },
  {
   "cell_type": "code",
   "execution_count": 33,
   "metadata": {
    "collapsed": false
   },
   "outputs": [
    {
     "data": {
      "text/plain": [
       "<matplotlib.axes._subplots.AxesSubplot at 0x1093efb50>"
      ]
     },
     "execution_count": 33,
     "metadata": {},
     "output_type": "execute_result"
    },
    {
     "data": {
      "image/png": "[encoded data removed]",
      "text/plain": [
       "<Figure size 432x288 with 1 Axes>"
      ]
     },
     "metadata": {},
     "output_type": "display_data"
    }
   ],
   "source": [
    "sns.set_style(\"darkgrid\")\n",
    "ax = sns.distplot(np.log(avg_codisp_no_shingle['Anomaly score']), label = \"Anomaly Score\")\n",
    "ax"
   ]
  },
  {
   "cell_type": "code",
   "execution_count": 34,
   "metadata": {
    "collapsed": false
   },
   "outputs": [
    {
     "data": {
      "text/plain": [
       "<matplotlib.axes._subplots.AxesSubplot at 0x118b7f450>"
      ]
     },
     "execution_count": 34,
     "metadata": {},
     "output_type": "execute_result"
    },
    {
     "data": {
      "image/png": "[encoded data removed]",
      "text/plain": [
       "<Figure size 432x288 with 1 Axes>"
      ]
     },
     "metadata": {},
     "output_type": "display_data"
    }
   ],
   "source": [
    "sns.set_style(\"darkgrid\")\n",
    "ax = sns.distplot(avg_codisp_no_shingle['Anomaly score'], label = \"Anomaly Score\")\n",
    "ax"
   ]
  },
  {
   "cell_type": "code",
   "execution_count": 35,
   "metadata": {
    "collapsed": false
   },
   "outputs": [
    {
     "data": {
      "text/plain": [
       "125.84"
      ]
     },
     "execution_count": 35,
     "metadata": {},
     "output_type": "execute_result"
    }
   ],
   "source": [
    "stat_threshold = avg_codisp_no_shingle[\"Anomaly score\"].quantile(.99)\n",
    "stat_threshold"
   ]
  },
  {
   "cell_type": "code",
   "execution_count": 40,
   "metadata": {
    "collapsed": true
   },
   "outputs": [],
   "source": [
    "# Creamos un archivo json donde guardamos los thresholds y el forest utilizado\n",
    "forest_dict = forest_to_dict(forest) \n",
    "forest_dict[\"incident_threshold\"] = best_threshold\n",
    "forest_dict[\"statistic_threshold\"] = stat_threshold\n",
    "with open('../data/bbva_usa_data/SABM-COL-BAQ-MW-M-386781_GigabitEthernet00_input.json', 'w') as output_file:\n",
    "    json.dump(forest_dict, output_file)"
   ]
  },
  {
   "cell_type": "code",
   "execution_count": null,
   "metadata": {
    "collapsed": true
   },
   "outputs": [],
   "source": []
  }
 ],
 "metadata": {
  "kernelspec": {
   "display_name": "Python 2",
   "language": "python",
   "name": "python2"
  },
  "language_info": {
   "codemirror_mode": {
    "name": "ipython",
    "version": 2
   },
   "file_extension": ".py",
   "mimetype": "text/x-python",
   "name": "python",
   "nbconvert_exporter": "python",
   "pygments_lexer": "ipython2",
   "version": "2.7.16"
  },
  "toc": {
   "base_numbering": 1,
   "nav_menu": {},
   "number_sections": true,
   "sideBar": true,
   "skip_h1_title": false,
   "title_cell": "Table of Contents",
   "title_sidebar": "Contents",
   "toc_cell": false,
   "toc_position": {},
   "toc_section_display": true,
   "toc_window_display": false
  }
 },
 "nbformat": 4,
 "nbformat_minor": 2
}
